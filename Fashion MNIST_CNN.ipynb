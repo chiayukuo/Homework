{
 "cells": [
  {
   "cell_type": "code",
   "execution_count": 1,
   "metadata": {},
   "outputs": [],
   "source": [
    "%matplotlib inline\n",
    "\n",
    "import numpy as np\n",
    "import matplotlib.pyplot as plt"
   ]
  },
  {
   "cell_type": "code",
   "execution_count": 2,
   "metadata": {},
   "outputs": [],
   "source": [
    "# 讀入Tensorflow"
   ]
  },
  {
   "cell_type": "code",
   "execution_count": 3,
   "metadata": {},
   "outputs": [],
   "source": [
    "class_names = ['T-shirt/top',  # 0\n",
    "               'Trouser',      # 1\n",
    "               'Pullover',     # 2\n",
    "               'Dress',        # 3\n",
    "               'Coat',         # 4\n",
    "               'Sandal',       # 5\n",
    "               'Shirt',        # 6\n",
    "               'Sneaker',      # 7\n",
    "               'Bag',          # 8\n",
    "               'Ankle boot']   # 9"
   ]
  },
  {
   "cell_type": "code",
   "execution_count": 4,
   "metadata": {},
   "outputs": [],
   "source": [
    "import tensorflow as tf"
   ]
  },
  {
   "cell_type": "markdown",
   "metadata": {},
   "source": [
    "## 1.讀入MNSIT 數據集"
   ]
  },
  {
   "cell_type": "code",
   "execution_count": 5,
   "metadata": {},
   "outputs": [],
   "source": [
    "from tensorflow.keras.datasets import fashion_mnist"
   ]
  },
  {
   "cell_type": "code",
   "execution_count": 6,
   "metadata": {},
   "outputs": [],
   "source": [
    "(x_train, y_train),(x_test, y_test) = fashion_mnist.load_data()"
   ]
  },
  {
   "cell_type": "code",
   "execution_count": 7,
   "metadata": {},
   "outputs": [
    {
     "name": "stdout",
     "output_type": "stream",
     "text": [
      "60000\n",
      "10000\n"
     ]
    }
   ],
   "source": [
    "\n",
    "print(len(y_train))\n",
    "print(len(y_test))"
   ]
  },
  {
   "cell_type": "markdown",
   "metadata": {},
   "source": [
    "## 2.資料整理"
   ]
  },
  {
   "cell_type": "code",
   "execution_count": 8,
   "metadata": {},
   "outputs": [],
   "source": [
    "x_train = x_train.reshape(60000,28,28,1) / 255\n",
    "x_test = x_test.reshape(10000,28,28,1)/ 255  #如果是彩色的用3"
   ]
  },
  {
   "cell_type": "code",
   "execution_count": 9,
   "metadata": {},
   "outputs": [],
   "source": [
    "from tensorflow.keras.utils import to_categorical\n",
    "\n",
    "y_train = to_categorical(y_train, 10)\n",
    "y_test = to_categorical(y_test, 10)"
   ]
  },
  {
   "cell_type": "markdown",
   "metadata": {},
   "source": [
    "## 3.打造神經網路"
   ]
  },
  {
   "cell_type": "code",
   "execution_count": 10,
   "metadata": {},
   "outputs": [],
   "source": [
    "from tensorflow.keras.models import Sequential"
   ]
  },
  {
   "cell_type": "code",
   "execution_count": 11,
   "metadata": {},
   "outputs": [],
   "source": [
    "from tensorflow.keras.layers import Conv2D, MaxPooling2D\n",
    "from tensorflow.keras.layers import Dense, Flatten"
   ]
  },
  {
   "cell_type": "code",
   "execution_count": 12,
   "metadata": {},
   "outputs": [],
   "source": [
    "from tensorflow.keras.optimizers import SGD"
   ]
  },
  {
   "cell_type": "code",
   "execution_count": 13,
   "metadata": {},
   "outputs": [],
   "source": [
    "model = Sequential()  #開一台函數學習機"
   ]
  },
  {
   "cell_type": "code",
   "execution_count": 14,
   "metadata": {},
   "outputs": [
    {
     "name": "stdout",
     "output_type": "stream",
     "text": [
      "WARNING:tensorflow:From C:\\Users\\user\\Anaconda3\\lib\\site-packages\\tensorflow\\python\\ops\\resource_variable_ops.py:435: colocate_with (from tensorflow.python.framework.ops) is deprecated and will be removed in a future version.\n",
      "Instructions for updating:\n",
      "Colocations handled automatically by placer.\n"
     ]
    }
   ],
   "source": [
    "model.add(Conv2D(16, (3,3), padding='same',\n",
    "                input_shape=(28,28,1),\n",
    "                activation='relu'))"
   ]
  },
  {
   "cell_type": "code",
   "execution_count": 15,
   "metadata": {},
   "outputs": [],
   "source": [
    "model.add(MaxPooling2D(pool_size=(2,2)))"
   ]
  },
  {
   "cell_type": "code",
   "execution_count": 16,
   "metadata": {},
   "outputs": [],
   "source": [
    "model.add(Conv2D(32, (3,3), padding='same',\n",
    "                activation='relu'))"
   ]
  },
  {
   "cell_type": "code",
   "execution_count": 17,
   "metadata": {},
   "outputs": [],
   "source": [
    "model.add(MaxPooling2D(pool_size=(2,2)))"
   ]
  },
  {
   "cell_type": "code",
   "execution_count": 18,
   "metadata": {},
   "outputs": [],
   "source": [
    "model.add(Conv2D(64, (3,3), padding='same',\n",
    "               activation='relu'))"
   ]
  },
  {
   "cell_type": "code",
   "execution_count": 19,
   "metadata": {},
   "outputs": [],
   "source": [
    "model.add(MaxPooling2D(pool_size=(2,2)))"
   ]
  },
  {
   "cell_type": "code",
   "execution_count": 20,
   "metadata": {},
   "outputs": [],
   "source": [
    "model.add(Dense(128, activation = 'relu'))"
   ]
  },
  {
   "cell_type": "code",
   "execution_count": 21,
   "metadata": {},
   "outputs": [],
   "source": [
    "model.add(Flatten())"
   ]
  },
  {
   "cell_type": "code",
   "execution_count": 22,
   "metadata": {},
   "outputs": [],
   "source": [
    "model.add(Dense(10, activation='softmax')) #輸出時加起來要是1"
   ]
  },
  {
   "cell_type": "code",
   "execution_count": 23,
   "metadata": {},
   "outputs": [],
   "source": [
    "result = model.predict_classes(x_test)"
   ]
  },
  {
   "cell_type": "code",
   "execution_count": 24,
   "metadata": {},
   "outputs": [
    {
     "name": "stdout",
     "output_type": "stream",
     "text": [
      "WARNING:tensorflow:From C:\\Users\\user\\Anaconda3\\lib\\site-packages\\tensorflow\\python\\keras\\utils\\losses_utils.py:170: to_float (from tensorflow.python.ops.math_ops) is deprecated and will be removed in a future version.\n",
      "Instructions for updating:\n",
      "Use tf.cast instead.\n"
     ]
    }
   ],
   "source": [
    "model.compile(loss='mse', optimizer=SGD(lr=0.05),  #發現learning rate很重要\n",
    "              metrics=['accuracy'])  #可以改loss function"
   ]
  },
  {
   "cell_type": "code",
   "execution_count": 25,
   "metadata": {
    "scrolled": true
   },
   "outputs": [
    {
     "name": "stdout",
     "output_type": "stream",
     "text": [
      "WARNING:tensorflow:From C:\\Users\\user\\Anaconda3\\lib\\site-packages\\tensorflow\\python\\ops\\math_ops.py:3066: to_int32 (from tensorflow.python.ops.math_ops) is deprecated and will be removed in a future version.\n",
      "Instructions for updating:\n",
      "Use tf.cast instead.\n",
      "Epoch 1/20\n",
      "60000/60000 [==============================] - 28s 468us/sample - loss: 0.0898 - acc: 0.0841\n",
      "Epoch 2/20\n",
      "60000/60000 [==============================] - 28s 461us/sample - loss: 0.0894 - acc: 0.1489\n",
      "Epoch 3/20\n",
      "60000/60000 [==============================] - 27s 456us/sample - loss: 0.0888 - acc: 0.2141\n",
      "Epoch 4/20\n",
      "60000/60000 [==============================] - 28s 471us/sample - loss: 0.0869 - acc: 0.2647\n",
      "Epoch 5/20\n",
      "60000/60000 [==============================] - 27s 458us/sample - loss: 0.0734 - acc: 0.4224\n",
      "Epoch 6/20\n",
      "60000/60000 [==============================] - 27s 458us/sample - loss: 0.0472 - acc: 0.6557\n",
      "Epoch 7/20\n",
      "60000/60000 [==============================] - 27s 458us/sample - loss: 0.0417 - acc: 0.6949\n",
      "Epoch 8/20\n",
      "60000/60000 [==============================] - 27s 458us/sample - loss: 0.0390 - acc: 0.7181\n",
      "Epoch 9/20\n",
      "60000/60000 [==============================] - 28s 467us/sample - loss: 0.0368 - acc: 0.7351\n",
      "Epoch 10/20\n",
      "60000/60000 [==============================] - 28s 471us/sample - loss: 0.0354 - acc: 0.7486\n",
      "Epoch 11/20\n",
      "60000/60000 [==============================] - 28s 470us/sample - loss: 0.0338 - acc: 0.7620\n",
      "Epoch 12/20\n",
      "60000/60000 [==============================] - 27s 457us/sample - loss: 0.0327 - acc: 0.7719\n",
      "Epoch 13/20\n",
      "60000/60000 [==============================] - 27s 457us/sample - loss: 0.0317 - acc: 0.7786\n",
      "Epoch 14/20\n",
      "60000/60000 [==============================] - 28s 467us/sample - loss: 0.0310 - acc: 0.7833\n",
      "Epoch 15/20\n",
      "60000/60000 [==============================] - 27s 458us/sample - loss: 0.0301 - acc: 0.7912 - loss: 0.0301 - acc:\n",
      "Epoch 16/20\n",
      "60000/60000 [==============================] - 27s 452us/sample - loss: 0.0295 - acc: 0.7951\n",
      "Epoch 17/20\n",
      "60000/60000 [==============================] - 28s 466us/sample - loss: 0.0288 - acc: 0.8012\n",
      "Epoch 18/20\n",
      "60000/60000 [==============================] - 27s 449us/sample - loss: 0.0282 - acc: 0.8048\n",
      "Epoch 19/20\n",
      "60000/60000 [==============================] - 27s 453us/sample - loss: 0.0276 - acc: 0.8087\n",
      "Epoch 20/20\n",
      "60000/60000 [==============================] - 27s 450us/sample - loss: 0.0270 - acc: 0.8120\n"
     ]
    },
    {
     "data": {
      "text/plain": [
       "<tensorflow.python.keras.callbacks.History at 0x2768167dda0>"
      ]
     },
     "execution_count": 25,
     "metadata": {},
     "output_type": "execute_result"
    }
   ],
   "source": [
    "model.fit(x_train, y_train, batch_size=100, epochs=20)"
   ]
  },
  {
   "cell_type": "code",
   "execution_count": 26,
   "metadata": {},
   "outputs": [
    {
     "name": "stdout",
     "output_type": "stream",
     "text": [
      "10000/10000 [==============================] - 2s 164us/sample - loss: 0.0274 - acc: 0.8091\n"
     ]
    }
   ],
   "source": [
    "score = model.evaluate(x_test, y_test)  #發現準確率略低一點點"
   ]
  },
  {
   "cell_type": "markdown",
   "metadata": {},
   "source": [
    "### 小小成果"
   ]
  },
  {
   "cell_type": "code",
   "execution_count": 27,
   "metadata": {},
   "outputs": [],
   "source": [
    "result = model.predict_classes(x_test)"
   ]
  },
  {
   "cell_type": "code",
   "execution_count": 28,
   "metadata": {},
   "outputs": [
    {
     "data": {
      "text/plain": [
       "'Coat'"
      ]
     },
     "execution_count": 28,
     "metadata": {},
     "output_type": "execute_result"
    }
   ],
   "source": [
    "class_names[result[9487]]"
   ]
  },
  {
   "cell_type": "code",
   "execution_count": 34,
   "metadata": {},
   "outputs": [
    {
     "data": {
      "text/plain": [
       "Text(0.5, 1.0, 'Coat')"
      ]
     },
     "execution_count": 34,
     "metadata": {},
     "output_type": "execute_result"
    },
    {
     "data": {
      "image/png": "[encoded data removed]",
      "text/plain": [
       "<Figure size 432x288 with 1 Axes>"
      ]
     },
     "metadata": {
      "needs_background": "light"
     },
     "output_type": "display_data"
    }
   ],
   "source": [
    "plt.imshow(x_test[9487].reshape(28,28), cmap='Greys')\n",
    "plt.title(class_names[result[9487]])"
   ]
  },
  {
   "cell_type": "markdown",
   "metadata": {},
   "source": [
    "### NOTE：修改了哪些地方？\n"
   ]
  },
  {
   "cell_type": "markdown",
   "metadata": {},
   "source": [
    "* 增加Dense中的units\n",
    "* 調低learning rate : 發現lr很重要，很大程度影響正確率\n",
    "* 調低batch_size\n",
    "* 調高epochs\n",
    "* 有嘗試調整過層數，但不知道為什麼跑～很～久～　就只用３層了"
   ]
  },
  {
   "cell_type": "code",
   "execution_count": null,
   "metadata": {},
   "outputs": [],
   "source": []
  }
 ],
 "metadata": {
  "kernelspec": {
   "display_name": "Python 3",
   "language": "python",
   "name": "python3"
  },
  "language_info": {
   "codemirror_mode": {
    "name": "ipython",
    "version": 3
   },
   "file_extension": ".py",
   "mimetype": "text/x-python",
   "name": "python",
   "nbconvert_exporter": "python",
   "pygments_lexer": "ipython3",
   "version": "3.6.8"
  }
 },
 "nbformat": 4,
 "nbformat_minor": 2
}
