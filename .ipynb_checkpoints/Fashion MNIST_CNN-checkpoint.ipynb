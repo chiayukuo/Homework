{
 "cells": [
  {
   "cell_type": "code",
   "execution_count": 1,
   "metadata": {},
   "outputs": [],
   "source": [
    "%matplotlib inline\n",
    "\n",
    "import numpy as np\n",
    "import matplotlib.pyplot as plt"
   ]
  },
  {
   "cell_type": "code",
   "execution_count": 2,
   "metadata": {},
   "outputs": [],
   "source": [
    "# 讀入Tensorflow"
   ]
  },
  {
   "cell_type": "code",
   "execution_count": 3,
   "metadata": {},
   "outputs": [],
   "source": [
    "class_names = ['T-shirt/top',  # 0\n",
    "               'Trouser',      # 1\n",
    "               'Pullover',     # 2\n",
    "               'Dress',        # 3\n",
    "               'Coat',         # 4\n",
    "               'Sandal',       # 5\n",
    "               'Shirt',        # 6\n",
    "               'Sneaker',      # 7\n",
    "               'Bag',          # 8\n",
    "               'Ankle boot']   # 9"
   ]
  },
  {
   "cell_type": "code",
   "execution_count": 4,
   "metadata": {},
   "outputs": [],
   "source": [
    "import tensorflow as tf"
   ]
  },
  {
   "cell_type": "markdown",
   "metadata": {},
   "source": [
    "## 1.讀入MNSIT 數據集"
   ]
  },
  {
   "cell_type": "code",
   "execution_count": 5,
   "metadata": {},
   "outputs": [],
   "source": [
    "from tensorflow.keras.datasets import fashion_mnist"
   ]
  },
  {
   "cell_type": "code",
   "execution_count": 6,
   "metadata": {},
   "outputs": [],
   "source": [
    "(x_train, y_train),(x_test, y_test) = fashion_mnist.load_data()"
   ]
  },
  {
   "cell_type": "code",
   "execution_count": 7,
   "metadata": {
    "scrolled": false
   },
   "outputs": [
    {
     "data": {
      "text/plain": [
       "<matplotlib.image.AxesImage at 0x2038f661b00>"
      ]
     },
     "execution_count": 7,
     "metadata": {},
     "output_type": "execute_result"
    },
    {
     "data": {
      "image/png": "[encoded data removed]",
      "text/plain": [
       "<Figure size 432x288 with 1 Axes>"
      ]
     },
     "metadata": {
      "needs_background": "light"
     },
     "output_type": "display_data"
    }
   ],
   "source": [
    "plt.imshow(x_train[9487], cmap='Greys')"
   ]
  },
  {
   "cell_type": "code",
   "execution_count": 8,
   "metadata": {},
   "outputs": [
    {
     "name": "stdout",
     "output_type": "stream",
     "text": [
      "60000\n",
      "10000\n"
     ]
    }
   ],
   "source": [
    "print(len(y_train))\n",
    "print(len(y_test))"
   ]
  },
  {
   "cell_type": "markdown",
   "metadata": {},
   "source": [
    "## 2.資料整理"
   ]
  },
  {
   "cell_type": "code",
   "execution_count": 9,
   "metadata": {},
   "outputs": [],
   "source": [
    "x_train = x_train.reshape(60000,784)/255\n",
    "x_test = x_test.reshape(10000,784)/255"
   ]
  },
  {
   "cell_type": "code",
   "execution_count": 10,
   "metadata": {},
   "outputs": [],
   "source": [
    "from tensorflow.keras.utils import to_categorical\n",
    "\n",
    "y_train = to_categorical(y_train, 10)\n",
    "y_test = to_categorical(y_test, 10)"
   ]
  },
  {
   "cell_type": "markdown",
   "metadata": {},
   "source": [
    "## 3.打造神經網路"
   ]
  },
  {
   "cell_type": "code",
   "execution_count": 11,
   "metadata": {},
   "outputs": [],
   "source": [
    "from tensorflow.keras.models import Sequential"
   ]
  },
  {
   "cell_type": "code",
   "execution_count": 12,
   "metadata": {},
   "outputs": [],
   "source": [
    "from tensorflow.keras.layers import Dense"
   ]
  },
  {
   "cell_type": "code",
   "execution_count": 13,
   "metadata": {},
   "outputs": [],
   "source": [
    "from tensorflow.keras.optimizers import SGD"
   ]
  },
  {
   "cell_type": "code",
   "execution_count": 14,
   "metadata": {},
   "outputs": [],
   "source": [
    "model = Sequential()  #開一台函數學習機"
   ]
  },
  {
   "cell_type": "code",
   "execution_count": 15,
   "metadata": {},
   "outputs": [
    {
     "name": "stdout",
     "output_type": "stream",
     "text": [
      "WARNING:tensorflow:From C:\\Users\\user\\Anaconda3\\lib\\site-packages\\tensorflow\\python\\ops\\resource_variable_ops.py:435: colocate_with (from tensorflow.python.framework.ops) is deprecated and will be removed in a future version.\n",
      "Instructions for updating:\n",
      "Colocations handled automatically by placer.\n"
     ]
    }
   ],
   "source": [
    "model.add(Dense(180,input_dim=784, activation='relu')) #加layer"
   ]
  },
  {
   "cell_type": "code",
   "execution_count": 16,
   "metadata": {},
   "outputs": [],
   "source": [
    "model.add(Dense(180, activation='relu'))"
   ]
  },
  {
   "cell_type": "code",
   "execution_count": 17,
   "metadata": {},
   "outputs": [],
   "source": [
    "model.add(Dense(180, activation='relu'))"
   ]
  },
  {
   "cell_type": "code",
   "execution_count": 18,
   "metadata": {},
   "outputs": [],
   "source": [
    "model.add(Dense(100, activation='relu'))"
   ]
  },
  {
   "cell_type": "code",
   "execution_count": 19,
   "metadata": {},
   "outputs": [],
   "source": [
    "model.add(Dense(180, activation='relu'))"
   ]
  },
  {
   "cell_type": "code",
   "execution_count": 20,
   "metadata": {},
   "outputs": [],
   "source": [
    "model.add(Dense(10, activation='softmax'))  #softmax:希望加起來是1"
   ]
  },
  {
   "cell_type": "code",
   "execution_count": 21,
   "metadata": {},
   "outputs": [
    {
     "name": "stdout",
     "output_type": "stream",
     "text": [
      "WARNING:tensorflow:From C:\\Users\\user\\Anaconda3\\lib\\site-packages\\tensorflow\\python\\keras\\utils\\losses_utils.py:170: to_float (from tensorflow.python.ops.math_ops) is deprecated and will be removed in a future version.\n",
      "Instructions for updating:\n",
      "Use tf.cast instead.\n"
     ]
    }
   ],
   "source": [
    "model.compile(loss='mse',optimizer=SGD(lr=0.03),metrics=['accuracy'])"
   ]
  },
  {
   "cell_type": "code",
   "execution_count": 22,
   "metadata": {},
   "outputs": [
    {
     "name": "stdout",
     "output_type": "stream",
     "text": [
      "WARNING:tensorflow:From C:\\Users\\user\\Anaconda3\\lib\\site-packages\\tensorflow\\python\\ops\\math_ops.py:3066: to_int32 (from tensorflow.python.ops.math_ops) is deprecated and will be removed in a future version.\n",
      "Instructions for updating:\n",
      "Use tf.cast instead.\n",
      "Epoch 1/40\n",
      "60000/60000 [==============================] - 25s 411us/sample - loss: 0.0600 - acc: 0.5228\n",
      "Epoch 2/40\n",
      "60000/60000 [==============================] - 25s 415us/sample - loss: 0.0297 - acc: 0.7974\n",
      "Epoch 3/40\n",
      "60000/60000 [==============================] - 28s 472us/sample - loss: 0.0250 - acc: 0.8291\n",
      "Epoch 4/40\n",
      "60000/60000 [==============================] - 25s 411us/sample - loss: 0.0228 - acc: 0.8437\n",
      "Epoch 5/40\n",
      "60000/60000 [==============================] - 25s 417us/sample - loss: 0.0216 - acc: 0.8531\n",
      "Epoch 6/40\n",
      "60000/60000 [==============================] - 25s 417us/sample - loss: 0.0206 - acc: 0.8607\n",
      "Epoch 7/40\n",
      "60000/60000 [==============================] - 25s 419us/sample - loss: 0.0198 - acc: 0.8649\n",
      "Epoch 8/40\n",
      "60000/60000 [==============================] - 25s 419us/sample - loss: 0.0191 - acc: 0.8697\n",
      "Epoch 9/40\n",
      "60000/60000 [==============================] - 25s 423us/sample - loss: 0.0185 - acc: 0.8741\n",
      "Epoch 10/40\n",
      "60000/60000 [==============================] - 25s 421us/sample - loss: 0.0180 - acc: 0.8769\n",
      "Epoch 11/40\n",
      "60000/60000 [==============================] - 25s 424us/sample - loss: 0.0176 - acc: 0.8806\n",
      "Epoch 12/40\n",
      "60000/60000 [==============================] - 25s 424us/sample - loss: 0.0172 - acc: 0.8836\n",
      "Epoch 13/40\n",
      "60000/60000 [==============================] - 26s 426us/sample - loss: 0.0168 - acc: 0.8856\n",
      "Epoch 14/40\n",
      "60000/60000 [==============================] - 25s 425us/sample - loss: 0.0164 - acc: 0.8886\n",
      "Epoch 15/40\n",
      "60000/60000 [==============================] - 26s 433us/sample - loss: 0.0161 - acc: 0.8918\n",
      "Epoch 16/40\n",
      "60000/60000 [==============================] - 26s 435us/sample - loss: 0.0158 - acc: 0.8931\n",
      "Epoch 17/40\n",
      "60000/60000 [==============================] - 25s 417us/sample - loss: 0.0155 - acc: 0.8954\n",
      "Epoch 18/40\n",
      "60000/60000 [==============================] - 23s 381us/sample - loss: 0.0152 - acc: 0.8974\n",
      "Epoch 19/40\n",
      "60000/60000 [==============================] - 22s 371us/sample - loss: 0.0149 - acc: 0.8996\n",
      "Epoch 20/40\n",
      "60000/60000 [==============================] - 25s 410us/sample - loss: 0.0148 - acc: 0.9005\n",
      "Epoch 21/40\n",
      "60000/60000 [==============================] - 21s 355us/sample - loss: 0.0145 - acc: 0.9023\n",
      "Epoch 22/40\n",
      "60000/60000 [==============================] - 21s 353us/sample - loss: 0.0143 - acc: 0.9041\n",
      "Epoch 23/40\n",
      "60000/60000 [==============================] - 21s 352us/sample - loss: 0.0141 - acc: 0.9047\n",
      "Epoch 24/40\n",
      "60000/60000 [==============================] - 23s 386us/sample - loss: 0.0138 - acc: 0.9072\n",
      "Epoch 25/40\n",
      "60000/60000 [==============================] - 22s 368us/sample - loss: 0.0136 - acc: 0.9091\n",
      "Epoch 26/40\n",
      "60000/60000 [==============================] - 21s 358us/sample - loss: 0.0134 - acc: 0.9105\n",
      "Epoch 27/40\n",
      "60000/60000 [==============================] - 21s 353us/sample - loss: 0.0132 - acc: 0.9122\n",
      "Epoch 28/40\n",
      "60000/60000 [==============================] - 21s 352us/sample - loss: 0.0130 - acc: 0.9139\n",
      "Epoch 29/40\n",
      "60000/60000 [==============================] - 21s 354us/sample - loss: 0.0128 - acc: 0.9144\n",
      "Epoch 30/40\n",
      "60000/60000 [==============================] - 21s 355us/sample - loss: 0.0126 - acc: 0.9172\n",
      "Epoch 31/40\n",
      "60000/60000 [==============================] - 21s 356us/sample - loss: 0.0125 - acc: 0.9182\n",
      "Epoch 32/40\n",
      "60000/60000 [==============================] - 25s 415us/sample - loss: 0.0123 - acc: 0.9195\n",
      "Epoch 33/40\n",
      "60000/60000 [==============================] - 25s 410us/sample - loss: 0.0121 - acc: 0.9209\n",
      "Epoch 34/40\n",
      "60000/60000 [==============================] - 25s 413us/sample - loss: 0.0120 - acc: 0.9220\n",
      "Epoch 35/40\n",
      "60000/60000 [==============================] - 23s 388us/sample - loss: 0.0118 - acc: 0.9226\n",
      "Epoch 36/40\n",
      "60000/60000 [==============================] - 21s 356us/sample - loss: 0.0116 - acc: 0.9240\n",
      "Epoch 37/40\n",
      "60000/60000 [==============================] - 24s 397us/sample - loss: 0.0115 - acc: 0.9249\n",
      "Epoch 38/40\n",
      "60000/60000 [==============================] - 23s 380us/sample - loss: 0.0113 - acc: 0.9269\n",
      "Epoch 39/40\n",
      "60000/60000 [==============================] - 22s 375us/sample - loss: 0.0112 - acc: 0.9284\n",
      "Epoch 40/40\n",
      "60000/60000 [==============================] - 24s 395us/sample - loss: 0.0110 - acc: 0.9283\n"
     ]
    },
    {
     "data": {
      "text/plain": [
       "<tensorflow.python.keras.callbacks.History at 0x2038c70ba58>"
      ]
     },
     "execution_count": 22,
     "metadata": {},
     "output_type": "execute_result"
    }
   ],
   "source": [
    "model.fit(x_train, y_train, batch_size=10, epochs=40)"
   ]
  },
  {
   "cell_type": "code",
   "execution_count": 23,
   "metadata": {},
   "outputs": [
    {
     "name": "stdout",
     "output_type": "stream",
     "text": [
      "10000/10000 [==============================] - 1s 53us/sample - loss: 0.0172 - acc: 0.8829\n"
     ]
    }
   ],
   "source": [
    "score = model.evaluate(x_test, y_test)  #發現準確率略低一點點"
   ]
  },
  {
   "cell_type": "markdown",
   "metadata": {},
   "source": [
    "### 小小成果"
   ]
  },
  {
   "cell_type": "code",
   "execution_count": 24,
   "metadata": {},
   "outputs": [],
   "source": [
    "result = model.predict_classes(x_test)"
   ]
  },
  {
   "cell_type": "code",
   "execution_count": 25,
   "metadata": {},
   "outputs": [
    {
     "data": {
      "text/plain": [
       "'Coat'"
      ]
     },
     "execution_count": 25,
     "metadata": {},
     "output_type": "execute_result"
    }
   ],
   "source": [
    "class_names[result[9487]]"
   ]
  },
  {
   "cell_type": "code",
   "execution_count": 34,
   "metadata": {},
   "outputs": [
    {
     "data": {
      "image/png": "[encoded data removed]",
      "text/plain": [
       "<Figure size 432x288 with 5 Axes>"
      ]
     },
     "metadata": {
      "needs_background": "light"
     },
     "output_type": "display_data"
    }
   ],
   "source": [
    "for i in range(5):\n",
    "    plt.subplot(1,5,i+1)\n",
    "    plt.imshow(x_test[i].reshape(28,28), cmap='Greys')\n",
    "    plt.title(class_names[result[i]])\n",
    "    plt.axis(\"off\")"
   ]
  },
  {
   "cell_type": "markdown",
   "metadata": {},
   "source": [
    "### NOTE：修改了哪些地方？\n"
   ]
  },
  {
   "cell_type": "code",
   "execution_count": 23,
   "metadata": {},
   "outputs": [],
   "source": [
    "# 增加Dense中的units\n",
    "# 調整層數\n",
    "# maybe可以改optimizer（嘗試了Adam和AdaGrad,但正確率都很低,應該還可以再嘗試其他的)\n",
    "# 調低learning rate\n",
    "# 調低batch_size\n",
    "# 調高epochs"
   ]
  },
  {
   "cell_type": "code",
   "execution_count": null,
   "metadata": {},
   "outputs": [],
   "source": []
  }
 ],
 "metadata": {
  "kernelspec": {
   "display_name": "Python 3",
   "language": "python",
   "name": "python3"
  },
  "language_info": {
   "codemirror_mode": {
    "name": "ipython",
    "version": 3
   },
   "file_extension": ".py",
   "mimetype": "text/x-python",
   "name": "python",
   "nbconvert_exporter": "python",
   "pygments_lexer": "ipython3",
   "version": "3.6.8"
  }
 },
 "nbformat": 4,
 "nbformat_minor": 2
}
