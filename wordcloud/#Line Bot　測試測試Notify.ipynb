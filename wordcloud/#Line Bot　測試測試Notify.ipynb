{
 "cells": [
  {
   "cell_type": "code",
   "execution_count": 2,
   "metadata": {},
   "outputs": [
    {
     "name": "stdout",
     "output_type": "stream",
     "text": [
      "{'imageFile': <_io.BufferedReader name='donotdie.jpg'>}\n"
     ]
    },
    {
     "data": {
      "text/plain": [
       "(200, '{\"status\":200,\"message\":\"ok\"}')"
      ]
     },
     "execution_count": 2,
     "metadata": {},
     "output_type": "execute_result"
    }
   ],
   "source": [
    "import requests\n",
    "\n",
    "def send_notify(token, msg, filepath=None, stickerPackageId=None, stickerId=None):\n",
    "    payload = {'message': msg}\n",
    "    headers = {\n",
    "        \"Authorization\": \"Bearer \" + token\n",
    "     }\n",
    "    if stickerPackageId and stickerId:\n",
    "        payload['stickerPackageId'] = stickerPackageId\n",
    "        payload['stickerId'] = stickerId\n",
    "    \n",
    "    if filepath:\n",
    "        attachment = {'imageFile': open(filepath, 'rb')}\n",
    "        print(attachment)\n",
    "        r = requests.post(\"https://notify-api.line.me/api/notify\", headers=headers, params=payload, files=attachment)\n",
    "    else:\n",
    "        r = requests.post(\"https://notify-api.line.me/api/notify\", headers=headers, params=payload)\n",
    "    return r.status_code, r.text\n",
    "\n",
    "# Test line notify\n",
    "token = \"Op05PJsRW9tvaMgc1TdMToK5ZmkDupzhk6BVdacbQsF\"\n",
    "send_notify(token=token, msg='小強你不能死阿', filepath='donotdie.jpg')"
   ]
  },
  {
   "cell_type": "code",
   "execution_count": null,
   "metadata": {},
   "outputs": [],
   "source": []
  }
 ],
 "metadata": {
  "kernelspec": {
   "display_name": "Python 3",
   "language": "python",
   "name": "python3"
  },
  "language_info": {
   "codemirror_mode": {
    "name": "ipython",
    "version": 3
   },
   "file_extension": ".py",
   "mimetype": "text/x-python",
   "name": "python",
   "nbconvert_exporter": "python",
   "pygments_lexer": "ipython3",
   "version": "3.7.4"
  }
 },
 "nbformat": 4,
 "nbformat_minor": 2
}
