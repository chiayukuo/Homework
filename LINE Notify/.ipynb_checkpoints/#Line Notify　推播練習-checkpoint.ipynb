{
 "cells": [
  {
   "cell_type": "code",
   "execution_count": 1,
   "metadata": {},
   "outputs": [],
   "source": [
    "import requests\n",
    "\n",
    "def send_notify(token, msg, filepath=None, stickerPackageId=None, stickerId=None):\n",
    "    payload = {'message': msg}\n",
    "    headers = {\n",
    "        \"Authorization\": \"Bearer \" + token\n",
    "     }\n",
    "    if stickerPackageId and stickerId:\n",
    "        payload['stickerPackageId'] = stickerPackageId\n",
    "        payload['stickerId'] = stickerId\n",
    "    \n",
    "    if filepath:\n",
    "        attachment = {'imageFile': open(filepath, 'rb')}\n",
    "        print(attachment)\n",
    "        r = requests.post(\"https://notify-api.line.me/api/notify\", headers=headers, params=payload, files=attachment)\n",
    "    else:\n",
    "        r = requests.post(\"https://notify-api.line.me/api/notify\", headers=headers, params=payload)\n",
    "    return r.status_code, r.text\n",
    "\n",
    "# Test line notify\n",
    "token = \"Op05PJsRW9tvaMgc1TdMToK5ZmkDupzhk6BVdacbQsF\"  #前往lINE NOTIFY自己建立\n"
   ]
  },
  {
   "cell_type": "markdown",
   "metadata": {},
   "source": [
    "## 爬取氣溫資訊"
   ]
  },
  {
   "cell_type": "code",
   "execution_count": 2,
   "metadata": {},
   "outputs": [],
   "source": [
    "from selenium import webdriver\n",
    "from pyquery import PyQuery as pq\n",
    "driver = webdriver.Chrome('chromedriver.exe')\n",
    "driver.get('https://www.google.com/search?q={}'.format('天氣'))\n",
    "html = driver.find_element_by_css_selector(\"*\").get_attribute(\"outerHTML\")\n",
    "doc = pq(html)"
   ]
  },
  {
   "cell_type": "code",
   "execution_count": 3,
   "metadata": {},
   "outputs": [],
   "source": [
    "t = []\n",
    "\n",
    "html = driver.find_element_by_css_selector(\"*\").get_attribute(\"outerHTML\")\n",
    "doc = pq(html)\n",
    "info=doc('.wob_t')   \n",
    "\n",
    "for data in info:\n",
    "    t.append(doc(data).text())"
   ]
  },
  {
   "cell_type": "code",
   "execution_count": 4,
   "metadata": {},
   "outputs": [
    {
     "data": {
      "text/plain": [
       "'24'"
      ]
     },
     "execution_count": 4,
     "metadata": {},
     "output_type": "execute_result"
    }
   ],
   "source": [
    "t[0]  #當下的氣溫"
   ]
  },
  {
   "cell_type": "code",
   "execution_count": 5,
   "metadata": {},
   "outputs": [
    {
     "data": {
      "text/plain": [
       "(200, '{\"status\":200,\"message\":\"ok\"}')"
      ]
     },
     "execution_count": 5,
     "metadata": {},
     "output_type": "execute_result"
    }
   ],
   "source": [
    "send_notify(token=token, msg='現在氣溫：'+t[0]+'℃')"
   ]
  },
  {
   "cell_type": "markdown",
   "metadata": {},
   "source": [
    "## 未來會試著串聯IFTTT，讓程式達到自動、定時推播的效果。"
   ]
  },
  {
   "cell_type": "code",
   "execution_count": 6,
   "metadata": {},
   "outputs": [],
   "source": [
    "import time"
   ]
  },
  {
   "cell_type": "code",
   "execution_count": null,
   "metadata": {},
   "outputs": [],
   "source": [
    "token = 'xxxxxxxxxxxxxxx' # 此為個人金鑰\n",
    "value1 = Board_Name"
   ]
  }
 ],
 "metadata": {
  "kernelspec": {
   "display_name": "Python 3",
   "language": "python",
   "name": "python3"
  },
  "language_info": {
   "codemirror_mode": {
    "name": "ipython",
    "version": 3
   },
   "file_extension": ".py",
   "mimetype": "text/x-python",
   "name": "python",
   "nbconvert_exporter": "python",
   "pygments_lexer": "ipython3",
   "version": "3.6.8"
  }
 },
 "nbformat": 4,
 "nbformat_minor": 2
}
