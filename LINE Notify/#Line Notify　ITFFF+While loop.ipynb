{
 "cells": [
  {
   "cell_type": "code",
   "execution_count": 1,
   "metadata": {},
   "outputs": [],
   "source": [
    "from selenium import webdriver\n",
    "from pyquery import PyQuery as pq\n",
    "import requests"
   ]
  },
  {
   "cell_type": "code",
   "execution_count": 2,
   "metadata": {},
   "outputs": [],
   "source": [
    "import time"
   ]
  },
  {
   "cell_type": "code",
   "execution_count": null,
   "metadata": {},
   "outputs": [
    {
     "name": "stdout",
     "output_type": "stream",
     "text": [
      "成功！\n"
     ]
    }
   ],
   "source": [
    "token = 'XXXXXXXX' # 此為個人金鑰\n",
    "app_name = 'line'\n",
    "\n",
    "restart_time = 3600*2\n",
    "\n",
    "while True:\n",
    "    t = []\n",
    "    \n",
    "    driver = webdriver.Chrome('chromedriver.exe')\n",
    "    driver.get('https://www.google.com/search?q={}'.format('天氣'))\n",
    "    html = driver.find_element_by_css_selector(\"*\").get_attribute(\"outerHTML\")\n",
    "    doc = pq(html)\n",
    "    \n",
    "    info=doc('.wob_t')   \n",
    "\n",
    "    for data in info:\n",
    "        t.append(doc(data).text())\n",
    "\n",
    "    value1 = t[0]\n",
    "\n",
    "    if t:\n",
    "        url = 'https://maker.ifttt.com/trigger/{}/with/key/{}?value1={}'.format(app_name, token,\n",
    "                                                                                    value1)\n",
    "                                                                                          \n",
    "        requests.get(url)\n",
    "        print('成功！')\n",
    "\n",
    "        \n",
    "    time.sleep(restart_time)"
   ]
  },
  {
   "cell_type": "code",
   "execution_count": null,
   "metadata": {},
   "outputs": [],
   "source": []
  },
  {
   "cell_type": "code",
   "execution_count": null,
   "metadata": {},
   "outputs": [],
   "source": []
  },
  {
   "cell_type": "code",
   "execution_count": null,
   "metadata": {},
   "outputs": [],
   "source": []
  },
  {
   "cell_type": "code",
   "execution_count": null,
   "metadata": {},
   "outputs": [],
   "source": []
  }
 ],
 "metadata": {
  "kernelspec": {
   "display_name": "Python 3",
   "language": "python",
   "name": "python3"
  },
  "language_info": {
   "codemirror_mode": {
    "name": "ipython",
    "version": 3
   },
   "file_extension": ".py",
   "mimetype": "text/x-python",
   "name": "python",
   "nbconvert_exporter": "python",
   "pygments_lexer": "ipython3",
   "version": "3.6.8"
  }
 },
 "nbformat": 4,
 "nbformat_minor": 2
}
