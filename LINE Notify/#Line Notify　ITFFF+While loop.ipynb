{
 "cells": [
  {
   "cell_type": "code",
   "execution_count": 1,
   "metadata": {},
   "outputs": [],
   "source": [
    "from selenium import webdriver\n",
    "from pyquery import PyQuery as pq\n",
    "import requests"
   ]
  },
  {
   "cell_type": "code",
   "execution_count": 2,
   "metadata": {},
   "outputs": [],
   "source": [
    "import time"
   ]
  },
  {
   "cell_type": "markdown",
   "metadata": {},
   "source": [
    "## 接續上一部分的溫度爬蟲："
   ]
  },
  {
   "cell_type": "code",
   "execution_count": null,
   "metadata": {},
   "outputs": [
    {
     "name": "stdout",
     "output_type": "stream",
     "text": [
      "成功！\n"
     ]
    }
   ],
   "source": [
    "token = '7JbzFRNtXuXXon9ipW8Gm'\n",
    "app_name = 'line'\n",
    "\n",
    "S = 3600*2\n",
    "\n",
    "while True:\n",
    "    \n",
    "    try:\n",
    "        t = []\n",
    "\n",
    "        driver = webdriver.Chrome('chromedriver.exe')\n",
    "        driver.get('https://www.google.com/search?q={}'.format('天氣'))\n",
    "        html = driver.find_element_by_css_selector(\"*\").get_attribute(\"outerHTML\")\n",
    "        doc = pq(html)\n",
    "\n",
    "        info=doc('.wob_t')   \n",
    "\n",
    "        for data in info:\n",
    "            t.append(doc(data).text())\n",
    "\n",
    "        value1 = t[0]\n",
    "\n",
    "        if t:\n",
    "\n",
    "            url = 'https://maker.ifttt.com/trigger/{}/with/key/{}?value1={}'.format(app_name, token, value1)                                                                                \n",
    "            requests.get(url)\n",
    "            print('成功！')\n",
    "\n",
    "\n",
    "        time.sleep(S)\n",
    "        \n",
    "    except EOFError:\n",
    "        \n",
    "        url = 'https://maker.ifttt.com/trigger/{}/with/key/{}?value1={}'.format(app_name, token, '失敗')                                                                                \n",
    "        requests.get(url)\n",
    "        \n",
    "        break"
   ]
  },
  {
   "cell_type": "code",
   "execution_count": null,
   "metadata": {},
   "outputs": [],
   "source": []
  },
  {
   "cell_type": "code",
   "execution_count": null,
   "metadata": {},
   "outputs": [],
   "source": []
  },
  {
   "cell_type": "code",
   "execution_count": null,
   "metadata": {},
   "outputs": [],
   "source": []
  },
  {
   "cell_type": "code",
   "execution_count": null,
   "metadata": {},
   "outputs": [],
   "source": []
  }
 ],
 "metadata": {
  "kernelspec": {
   "display_name": "Python 3",
   "language": "python",
   "name": "python3"
  },
  "language_info": {
   "codemirror_mode": {
    "name": "ipython",
    "version": 3
   },
   "file_extension": ".py",
   "mimetype": "text/x-python",
   "name": "python",
   "nbconvert_exporter": "python",
   "pygments_lexer": "ipython3",
   "version": "3.6.8"
  }
 },
 "nbformat": 4,
 "nbformat_minor": 2
}
