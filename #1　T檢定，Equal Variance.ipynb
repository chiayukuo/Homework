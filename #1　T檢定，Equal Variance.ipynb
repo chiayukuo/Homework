{
 "cells": [
  {
   "cell_type": "code",
   "execution_count": 4,
   "metadata": {},
   "outputs": [
    {
     "name": "stdout",
     "output_type": "stream",
     "text": [
      "t statistic is:  0.9394886573346275\n",
      "pvalue is:  0.35991721678518696\n"
     ]
    }
   ],
   "source": [
    "import numpy as np\n",
    "from scipy import stats\n",
    "\n",
    "mean1 = 30.97\n",
    "mean2 = 21.79\n",
    "\n",
    "std1 = 26.7\n",
    "std2 = 12.1\n",
    "\n",
    "nobs1 = 10\n",
    "nobs2 = 10\n",
    "\n",
    "modified_std1 = np.sqrt(np.float32(nobs1)/np.float32(nobs1-1)) * std1\n",
    "modified_std2 = np.sqrt(np.float32(nobs2)/np.float32(nobs2-1)) * std2\n",
    "\n",
    "(statistic, pvalue) = stats.ttest_ind_from_stats(mean1=mean1, std1=modified_std1, nobs1=10, mean2=mean2, std2=modified_std2, nobs2=10)\n",
    "\n",
    "print (\"t statistic is: \", statistic)\n",
    "print (\"pvalue is: \", pvalue)"
   ]
  },
  {
   "cell_type": "code",
   "execution_count": null,
   "metadata": {},
   "outputs": [],
   "source": []
  }
 ],
 "metadata": {
  "kernelspec": {
   "display_name": "Python 3",
   "language": "python",
   "name": "python3"
  },
  "language_info": {
   "codemirror_mode": {
    "name": "ipython",
    "version": 3
   },
   "file_extension": ".py",
   "mimetype": "text/x-python",
   "name": "python",
   "nbconvert_exporter": "python",
   "pygments_lexer": "ipython3",
   "version": "3.6.8"
  }
 },
 "nbformat": 4,
 "nbformat_minor": 2
}
