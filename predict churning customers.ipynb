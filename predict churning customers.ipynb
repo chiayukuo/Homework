{
  "nbformat": 4,
  "nbformat_minor": 0,
  "metadata": {
    "colab": {
      "name": "20211217",
      "provenance": [],
      "collapsed_sections": [],
      "authorship_tag": "ABX9TyPjxzgHXQGhZD6VA5HckoNP",
      "include_colab_link": true
    },
    "kernelspec": {
      "name": "ir",
      "display_name": "R"
    },
    "language_info": {
      "name": "R"
    }
  },
  "cells": [
    {
      "cell_type": "markdown",
      "metadata": {
        "id": "view-in-github",
        "colab_type": "text"
      },
      "source": [
        "<a href=\"https://colab.research.google.com/github/chiayukuo/Homework/blob/master/predict%20churning%20customers.ipynb\" target=\"_parent\"><img src=\"https://colab.research.google.com/assets/colab-badge.svg\" alt=\"Open In Colab\"/></a>"
      ]
    },
    {
      "cell_type": "code",
      "source": [
        "# Loading data & Data cleaning"
      ],
      "metadata": {
        "id": "U4s9oXW3C46p"
      },
      "execution_count": null,
      "outputs": []
    },
    {
      "cell_type": "code",
      "source": [
        "install.packages(\"caret\")\n",
        "install.packages(\"randomForest\")"
      ],
      "metadata": {
        "id": "IRH-Mu8sVvOB",
        "colab": {
          "base_uri": "https://localhost:8080/"
        },
        "outputId": "655c698f-6ff0-45e6-ce65-bd883908fdfc"
      },
      "execution_count": 1,
      "outputs": [
        {
          "output_type": "stream",
          "name": "stderr",
          "text": [
            "Installing package into ‘/usr/local/lib/R/site-library’\n",
            "(as ‘lib’ is unspecified)\n",
            "\n",
            "also installing the dependencies ‘listenv’, ‘parallelly’, ‘future’, ‘globals’, ‘future.apply’, ‘progressr’, ‘numDeriv’, ‘SQUAREM’, ‘lava’, ‘prodlim’, ‘proxy’, ‘iterators’, ‘gower’, ‘ipred’, ‘timeDate’, ‘e1071’, ‘foreach’, ‘ModelMetrics’, ‘plyr’, ‘pROC’, ‘recipes’, ‘reshape2’\n",
            "\n",
            "\n",
            "Installing package into ‘/usr/local/lib/R/site-library’\n",
            "(as ‘lib’ is unspecified)\n",
            "\n"
          ]
        }
      ]
    },
    {
      "cell_type": "code",
      "source": [
        "library(tidyverse)\n",
        "library(caret)\n",
        "library(randomForest)"
      ],
      "metadata": {
        "id": "Qh5h_F93YJ_A"
      },
      "execution_count": null,
      "outputs": []
    },
    {
      "cell_type": "code",
      "metadata": {
        "id": "tbRwn9wK7ypy"
      },
      "source": [
        "churner <- read.csv(\"BankChurners.csv\")"
      ],
      "execution_count": 3,
      "outputs": []
    },
    {
      "cell_type": "code",
      "metadata": {
        "id": "85lErJia7ysS"
      },
      "source": [
        "churners<-churner%>%\n",
        "select(-c(1,22,23))"
      ],
      "execution_count": 4,
      "outputs": []
    },
    {
      "cell_type": "code",
      "source": [
        "# Delete rows containing \"Unknown\"\n",
        "churners <- churners[- grep(\"Unknown\", churners$Education_Level),]\n",
        "churners <- churners[- grep(\"Unknown\", churners$Marital_Status),]\n",
        "churners <- churners[- grep(\"Unknown\", churners$Income_Category),]"
      ],
      "metadata": {
        "id": "P52UPKhY0RLC"
      },
      "execution_count": 5,
      "outputs": []
    },
    {
      "cell_type": "code",
      "source": [
        "churners<-churners%>%\n",
        "mutate(Attrition_Flag=ifelse(Attrition_Flag==\"Existing Customer\",0,1),Attrition_Flag=as.factor(Attrition_Flag))%>%\n",
        "mutate_if(is.character,as.factor)"
      ],
      "metadata": {
        "id": "nT3LE1hiiUot"
      },
      "execution_count": 6,
      "outputs": []
    },
    {
      "cell_type": "code",
      "source": [
        "# Creating dummy variables\n",
        "#vars_dummy <- churners4[, c(\"Gender\", \"Marital_Status\")]\n",
        "#vars_dummy <- churners4[, c(\"Gender\", \"Marital_Status\",\"Education_Level\", \"Income_Category\", \"Card_Category\")]\n",
        "#dummy      <- dummyVars(\"~.\", data = vars_dummy)\n",
        "#dummy_     <- predict(dummy, vars_dummy) \n",
        "\n",
        "# Concatenating the new dummy variables in the dataset\n",
        "\n",
        "#head(dummy_)\n",
        "\n",
        "#churners4 <- dplyr::select(cbind(churners4, dummy_), -c(\"Gender\", \"Gender.F\", \"Marital_Status\"))\n",
        "#churners4 <- dplyr::select(cbind(churners4, dummy_), -c(\"Gender\", \"Gender.F\", \"Marital_Status\",\"Education_Level\", \"Income_Category\", \"Card_Category\"))\n",
        "\n",
        "#colnames(churners4)[which(names(churners4) == \"Education_Level.High School\")] <- \"Education_Level.High_School\"\n",
        "#colnames(churners4)[which(names(churners4) == \"Education_Level.Post-Graduate\")] <- \"Education_Level.Post_Graduate\"\n",
        "#colnames(churners4)[which(names(churners4) == \"Income_Category.$120K +\")] <- \"Income_Category.120K\"\n",
        "#colnames(churners4)[which(names(churners4) == \"Income_Category.Less than $40K\")] <- \"Income_Category.Less_than_40K\"\n",
        "#colnames(churners4)[which(names(churners4) == \"Income_Category.$40K - $60K\")] <- \"Income_Category.40K_60K\"\n",
        "#colnames(churners4)[which(names(churners4) == \"Income_Category.$60K - $80K\")] <- \"Income_Category.60K_80K\"\n",
        "#colnames(churners4)[which(names(churners4) == \"Income_Category.$80K - $120K\")] <- \"Income_Category.80K_120K\""
      ],
      "metadata": {
        "id": "Va14OLbkTRMH"
      },
      "execution_count": null,
      "outputs": []
    },
    {
      "cell_type": "code",
      "source": [
        "# Removing Low Variance variables\n",
        "zero_nearzero_variance<-nearZeroVar(churners)\n",
        "zero_nearzero_variance\n",
        "churners<-churners%>%\n",
        "select(-20)\n",
        "\n",
        "# Multi-correlated variables\n",
        "correlated<-findCorrelation(cor(churners[,-c(1,3,5,6,7,8)]),names=T) # not include fct.\n",
        "correlated\n",
        "# Removing the variables that is also highly correlated with one of the other variables\n",
        "churners<-churners%>%\n",
        "select(-correlated)\n",
        "head(churners)"
      ],
      "metadata": {
        "colab": {
          "base_uri": "https://localhost:8080/",
          "height": 414
        },
        "id": "HPs230mJiUsH",
        "outputId": "67957141-39b0-4e61-b989-8c97b34dcba2"
      },
      "execution_count": 7,
      "outputs": [
        {
          "output_type": "display_data",
          "data": {
            "text/plain": [
              "integer(0)"
            ],
            "text/latex": "",
            "text/markdown": "",
            "text/html": [
              ""
            ]
          },
          "metadata": {}
        },
        {
          "output_type": "display_data",
          "data": {
            "text/plain": [
              "[1] \"Avg_Open_To_Buy\""
            ],
            "text/latex": "'Avg\\_Open\\_To\\_Buy'",
            "text/markdown": "'Avg_Open_To_Buy'",
            "text/html": [
              "'Avg_Open_To_Buy'"
            ]
          },
          "metadata": {}
        },
        {
          "output_type": "stream",
          "name": "stderr",
          "text": [
            "Note: Using an external vector in selections is ambiguous.\n",
            "\u001b[34mℹ\u001b[39m Use `all_of(correlated)` instead of `correlated` to silence this message.\n",
            "\u001b[34mℹ\u001b[39m See <https://tidyselect.r-lib.org/reference/faq-external-vector.html>.\n",
            "\u001b[90mThis message is displayed once per session.\u001b[39m\n",
            "\n"
          ]
        },
        {
          "output_type": "display_data",
          "data": {
            "text/plain": [
              "  Attrition_Flag Customer_Age Gender Dependent_count Education_Level\n",
              "1 0              45           M      3               High School    \n",
              "2 0              49           F      5               Graduate       \n",
              "3 0              51           M      3               Graduate       \n",
              "5 0              40           M      3               Uneducated     \n",
              "6 0              44           M      2               Graduate       \n",
              "9 0              37           M      3               Uneducated     \n",
              "  Marital_Status Income_Category Card_Category Months_on_book\n",
              "1 Married        $60K - $80K     Blue          39            \n",
              "2 Single         Less than $40K  Blue          44            \n",
              "3 Married        $80K - $120K    Blue          36            \n",
              "5 Married        $60K - $80K     Blue          21            \n",
              "6 Married        $40K - $60K     Blue          36            \n",
              "9 Single         $60K - $80K     Blue          36            \n",
              "  Total_Relationship_Count Months_Inactive_12_mon Contacts_Count_12_mon\n",
              "1 5                        1                      3                    \n",
              "2 6                        1                      2                    \n",
              "3 4                        1                      0                    \n",
              "5 5                        1                      0                    \n",
              "6 3                        1                      2                    \n",
              "9 5                        2                      0                    \n",
              "  Credit_Limit Total_Revolving_Bal Total_Amt_Chng_Q4_Q1 Total_Trans_Amt\n",
              "1 12691         777                1.335                1144           \n",
              "2  8256         864                1.541                1291           \n",
              "3  3418           0                2.594                1887           \n",
              "5  4716           0                2.175                 816           \n",
              "6  4010        1247                1.376                1088           \n",
              "9 22352        2517                3.355                1350           \n",
              "  Total_Trans_Ct Total_Ct_Chng_Q4_Q1\n",
              "1 42             1.625              \n",
              "2 33             3.714              \n",
              "3 20             2.333              \n",
              "5 28             2.500              \n",
              "6 24             0.846              \n",
              "9 24             1.182              "
            ],
            "text/latex": "A data.frame: 6 × 18\n\\begin{tabular}{r|llllllllllllllllll}\n  & Attrition\\_Flag & Customer\\_Age & Gender & Dependent\\_count & Education\\_Level & Marital\\_Status & Income\\_Category & Card\\_Category & Months\\_on\\_book & Total\\_Relationship\\_Count & Months\\_Inactive\\_12\\_mon & Contacts\\_Count\\_12\\_mon & Credit\\_Limit & Total\\_Revolving\\_Bal & Total\\_Amt\\_Chng\\_Q4\\_Q1 & Total\\_Trans\\_Amt & Total\\_Trans\\_Ct & Total\\_Ct\\_Chng\\_Q4\\_Q1\\\\\n  & <fct> & <int> & <fct> & <int> & <fct> & <fct> & <fct> & <fct> & <int> & <int> & <int> & <int> & <dbl> & <int> & <dbl> & <int> & <int> & <dbl>\\\\\n\\hline\n\t1 & 0 & 45 & M & 3 & High School & Married & \\$60K - \\$80K    & Blue & 39 & 5 & 1 & 3 & 12691 &  777 & 1.335 & 1144 & 42 & 1.625\\\\\n\t2 & 0 & 49 & F & 5 & Graduate    & Single  & Less than \\$40K & Blue & 44 & 6 & 1 & 2 &  8256 &  864 & 1.541 & 1291 & 33 & 3.714\\\\\n\t3 & 0 & 51 & M & 3 & Graduate    & Married & \\$80K - \\$120K   & Blue & 36 & 4 & 1 & 0 &  3418 &    0 & 2.594 & 1887 & 20 & 2.333\\\\\n\t5 & 0 & 40 & M & 3 & Uneducated  & Married & \\$60K - \\$80K    & Blue & 21 & 5 & 1 & 0 &  4716 &    0 & 2.175 &  816 & 28 & 2.500\\\\\n\t6 & 0 & 44 & M & 2 & Graduate    & Married & \\$40K - \\$60K    & Blue & 36 & 3 & 1 & 2 &  4010 & 1247 & 1.376 & 1088 & 24 & 0.846\\\\\n\t9 & 0 & 37 & M & 3 & Uneducated  & Single  & \\$60K - \\$80K    & Blue & 36 & 5 & 2 & 0 & 22352 & 2517 & 3.355 & 1350 & 24 & 1.182\\\\\n\\end{tabular}\n",
            "text/markdown": "\nA data.frame: 6 × 18\n\n| <!--/--> | Attrition_Flag &lt;fct&gt; | Customer_Age &lt;int&gt; | Gender &lt;fct&gt; | Dependent_count &lt;int&gt; | Education_Level &lt;fct&gt; | Marital_Status &lt;fct&gt; | Income_Category &lt;fct&gt; | Card_Category &lt;fct&gt; | Months_on_book &lt;int&gt; | Total_Relationship_Count &lt;int&gt; | Months_Inactive_12_mon &lt;int&gt; | Contacts_Count_12_mon &lt;int&gt; | Credit_Limit &lt;dbl&gt; | Total_Revolving_Bal &lt;int&gt; | Total_Amt_Chng_Q4_Q1 &lt;dbl&gt; | Total_Trans_Amt &lt;int&gt; | Total_Trans_Ct &lt;int&gt; | Total_Ct_Chng_Q4_Q1 &lt;dbl&gt; |\n|---|---|---|---|---|---|---|---|---|---|---|---|---|---|---|---|---|---|---|\n| 1 | 0 | 45 | M | 3 | High School | Married | $60K - $80K    | Blue | 39 | 5 | 1 | 3 | 12691 |  777 | 1.335 | 1144 | 42 | 1.625 |\n| 2 | 0 | 49 | F | 5 | Graduate    | Single  | Less than $40K | Blue | 44 | 6 | 1 | 2 |  8256 |  864 | 1.541 | 1291 | 33 | 3.714 |\n| 3 | 0 | 51 | M | 3 | Graduate    | Married | $80K - $120K   | Blue | 36 | 4 | 1 | 0 |  3418 |    0 | 2.594 | 1887 | 20 | 2.333 |\n| 5 | 0 | 40 | M | 3 | Uneducated  | Married | $60K - $80K    | Blue | 21 | 5 | 1 | 0 |  4716 |    0 | 2.175 |  816 | 28 | 2.500 |\n| 6 | 0 | 44 | M | 2 | Graduate    | Married | $40K - $60K    | Blue | 36 | 3 | 1 | 2 |  4010 | 1247 | 1.376 | 1088 | 24 | 0.846 |\n| 9 | 0 | 37 | M | 3 | Uneducated  | Single  | $60K - $80K    | Blue | 36 | 5 | 2 | 0 | 22352 | 2517 | 3.355 | 1350 | 24 | 1.182 |\n\n",
            "text/html": [
              "<table class=\"dataframe\">\n",
              "<caption>A data.frame: 6 × 18</caption>\n",
              "<thead>\n",
              "\t<tr><th></th><th scope=col>Attrition_Flag</th><th scope=col>Customer_Age</th><th scope=col>Gender</th><th scope=col>Dependent_count</th><th scope=col>Education_Level</th><th scope=col>Marital_Status</th><th scope=col>Income_Category</th><th scope=col>Card_Category</th><th scope=col>Months_on_book</th><th scope=col>Total_Relationship_Count</th><th scope=col>Months_Inactive_12_mon</th><th scope=col>Contacts_Count_12_mon</th><th scope=col>Credit_Limit</th><th scope=col>Total_Revolving_Bal</th><th scope=col>Total_Amt_Chng_Q4_Q1</th><th scope=col>Total_Trans_Amt</th><th scope=col>Total_Trans_Ct</th><th scope=col>Total_Ct_Chng_Q4_Q1</th></tr>\n",
              "\t<tr><th></th><th scope=col>&lt;fct&gt;</th><th scope=col>&lt;int&gt;</th><th scope=col>&lt;fct&gt;</th><th scope=col>&lt;int&gt;</th><th scope=col>&lt;fct&gt;</th><th scope=col>&lt;fct&gt;</th><th scope=col>&lt;fct&gt;</th><th scope=col>&lt;fct&gt;</th><th scope=col>&lt;int&gt;</th><th scope=col>&lt;int&gt;</th><th scope=col>&lt;int&gt;</th><th scope=col>&lt;int&gt;</th><th scope=col>&lt;dbl&gt;</th><th scope=col>&lt;int&gt;</th><th scope=col>&lt;dbl&gt;</th><th scope=col>&lt;int&gt;</th><th scope=col>&lt;int&gt;</th><th scope=col>&lt;dbl&gt;</th></tr>\n",
              "</thead>\n",
              "<tbody>\n",
              "\t<tr><th scope=row>1</th><td>0</td><td>45</td><td>M</td><td>3</td><td>High School</td><td>Married</td><td>$60K - $80K   </td><td>Blue</td><td>39</td><td>5</td><td>1</td><td>3</td><td>12691</td><td> 777</td><td>1.335</td><td>1144</td><td>42</td><td>1.625</td></tr>\n",
              "\t<tr><th scope=row>2</th><td>0</td><td>49</td><td>F</td><td>5</td><td>Graduate   </td><td>Single </td><td>Less than $40K</td><td>Blue</td><td>44</td><td>6</td><td>1</td><td>2</td><td> 8256</td><td> 864</td><td>1.541</td><td>1291</td><td>33</td><td>3.714</td></tr>\n",
              "\t<tr><th scope=row>3</th><td>0</td><td>51</td><td>M</td><td>3</td><td>Graduate   </td><td>Married</td><td>$80K - $120K  </td><td>Blue</td><td>36</td><td>4</td><td>1</td><td>0</td><td> 3418</td><td>   0</td><td>2.594</td><td>1887</td><td>20</td><td>2.333</td></tr>\n",
              "\t<tr><th scope=row>5</th><td>0</td><td>40</td><td>M</td><td>3</td><td>Uneducated </td><td>Married</td><td>$60K - $80K   </td><td>Blue</td><td>21</td><td>5</td><td>1</td><td>0</td><td> 4716</td><td>   0</td><td>2.175</td><td> 816</td><td>28</td><td>2.500</td></tr>\n",
              "\t<tr><th scope=row>6</th><td>0</td><td>44</td><td>M</td><td>2</td><td>Graduate   </td><td>Married</td><td>$40K - $60K   </td><td>Blue</td><td>36</td><td>3</td><td>1</td><td>2</td><td> 4010</td><td>1247</td><td>1.376</td><td>1088</td><td>24</td><td>0.846</td></tr>\n",
              "\t<tr><th scope=row>9</th><td>0</td><td>37</td><td>M</td><td>3</td><td>Uneducated </td><td>Single </td><td>$60K - $80K   </td><td>Blue</td><td>36</td><td>5</td><td>2</td><td>0</td><td>22352</td><td>2517</td><td>3.355</td><td>1350</td><td>24</td><td>1.182</td></tr>\n",
              "</tbody>\n",
              "</table>\n"
            ]
          },
          "metadata": {}
        }
      ]
    },
    {
      "cell_type": "code",
      "source": [
        "shuffle<-sample(nrow(churners))\n",
        "churners<-churners[shuffle,]\n",
        "\n",
        "split<-round(nrow(churners)*0.75)\n",
        "train<-churners[1:split,]\n",
        "test<-churners[(split+1):nrow(churners),]"
      ],
      "metadata": {
        "id": "UKnyuvJDiUus"
      },
      "execution_count": 8,
      "outputs": []
    },
    {
      "cell_type": "code",
      "source": [
        "# Finding important variable"
      ],
      "metadata": {
        "id": "JvBo5d2yAuJP"
      },
      "execution_count": null,
      "outputs": []
    },
    {
      "cell_type": "code",
      "source": [
        "rf<-randomForest(Attrition_Flag~.,data=train)\n",
        "print(rf$importance)\n",
        "varImpPlot(rf)"
      ],
      "metadata": {
        "colab": {
          "base_uri": "https://localhost:8080/",
          "height": 763
        },
        "id": "mL1_f1l7jBgi",
        "outputId": "7d7b5673-d216-4249-e766-ed5b060cb165"
      },
      "execution_count": 9,
      "outputs": [
        {
          "output_type": "stream",
          "name": "stdout",
          "text": [
            "                         MeanDecreaseGini\n",
            "Customer_Age                     55.75048\n",
            "Gender                           10.64991\n",
            "Dependent_count                  22.03545\n",
            "Education_Level                  26.51289\n",
            "Marital_Status                   12.66864\n",
            "Income_Category                  23.13033\n",
            "Card_Category                     4.57431\n",
            "Months_on_book                   39.53299\n",
            "Total_Relationship_Count         91.57189\n",
            "Months_Inactive_12_mon           37.75607\n",
            "Contacts_Count_12_mon            43.49164\n",
            "Credit_Limit                     60.08483\n",
            "Total_Revolving_Bal             210.34613\n",
            "Total_Amt_Chng_Q4_Q1             99.76693\n",
            "Total_Trans_Amt                 271.18658\n",
            "Total_Trans_Ct                  233.13307\n",
            "Total_Ct_Chng_Q4_Q1             164.59255\n"
          ]
        },
        {
          "output_type": "display_data",
          "data": {
            "image/png": "[encoded data removed]",
            "text/plain": [
              "Plot with title “rf”"
            ]
          },
          "metadata": {
            "image/png": {
              "width": 420,
              "height": 420
            }
          }
        }
      ]
    },
    {
      "cell_type": "code",
      "source": [
        "# train[,11:32] <- sapply(train[, 11:32], as.integer)"
      ],
      "metadata": {
        "id": "IHYfNjQy5pN_"
      },
      "execution_count": null,
      "outputs": []
    },
    {
      "cell_type": "code",
      "source": [
        "# Training model"
      ],
      "metadata": {
        "id": "GvABJUnWDFzF"
      },
      "execution_count": null,
      "outputs": []
    },
    {
      "cell_type": "code",
      "source": [
        "# grid\n",
        "\n",
        "# DownSampling\n",
        "set.seed(1000)\n",
        "my_control1<-trainControl(method=\"cv\",number=10,summaryFunction = twoClassSummary,classProbs = TRUE,verboseIter = TRUE,savePredictions = TRUE,sampling=\"down\",search = \"grid\")\n",
        "tunegrid <- expand.grid(.mtry = (1:14)) \n",
        "rfMdl_balanced<-caret::train(Attrition_Flag~.,data=train,method=\"rf\",traincontrol=my_control1,ntree = 80, tuneGrid = tunegrid)\n",
        "plot(rfMdl_balanced)\n",
        "\n",
        "test$predict_balanced<-predict(rfMdl_balanced,test)\n",
        "confusionMatrix(test$predict_balanced,test$Attrition_Flag)"
      ],
      "metadata": {
        "colab": {
          "base_uri": "https://localhost:8080/",
          "height": 926
        },
        "id": "NeisTHywDdVT",
        "outputId": "8d26c93b-059f-4d4f-93e4-54dda632d2b3"
      },
      "execution_count": null,
      "outputs": [
        {
          "output_type": "display_data",
          "data": {
            "text/plain": [
              "Confusion Matrix and Statistics\n",
              "\n",
              "          Reference\n",
              "Prediction    0    1\n",
              "         0 1491   31\n",
              "         1   19  229\n",
              "                                         \n",
              "               Accuracy : 0.9718         \n",
              "                 95% CI : (0.9629, 0.979)\n",
              "    No Information Rate : 0.8531         \n",
              "    P-Value [Acc > NIR] : <2e-16         \n",
              "                                         \n",
              "                  Kappa : 0.8851         \n",
              "                                         \n",
              " Mcnemar's Test P-Value : 0.1198         \n",
              "                                         \n",
              "            Sensitivity : 0.9874         \n",
              "            Specificity : 0.8808         \n",
              "         Pos Pred Value : 0.9796         \n",
              "         Neg Pred Value : 0.9234         \n",
              "             Prevalence : 0.8531         \n",
              "         Detection Rate : 0.8424         \n",
              "   Detection Prevalence : 0.8599         \n",
              "      Balanced Accuracy : 0.9341         \n",
              "                                         \n",
              "       'Positive' Class : 0              \n",
              "                                         "
            ]
          },
          "metadata": {}
        },
        {
          "output_type": "display_data",
          "data": {
            "image/png": "[encoded data removed]",
            "text/plain": [
              "plot without title"
            ]
          },
          "metadata": {
            "image/png": {
              "width": 420,
              "height": 420
            }
          }
        }
      ]
    },
    {
      "cell_type": "code",
      "source": [
        "#print(rfMdl_balanced)"
      ],
      "metadata": {
        "id": "czOejFfYLkF8"
      },
      "execution_count": null,
      "outputs": []
    },
    {
      "cell_type": "code",
      "source": [
        "# pred_accuracy\n",
        "\n",
        "pred_test <- predict(rfMdl_balanced, newdata=test)\n",
        "  \n",
        "pred_testing <- ifelse(pred_test == test$Attrition_Flag , 1,0)\n",
        "testing_accuracy <- round(length(pred_testing[pred_testing==1])/length(pred_testing),5)\n",
        "\n",
        "print(testing_accuracy)"
      ],
      "metadata": {
        "colab": {
          "base_uri": "https://localhost:8080/"
        },
        "id": "bfOmGqMMIBcB",
        "outputId": "727d78e2-198f-41e0-87e7-6b5b2c2b8c40"
      },
      "execution_count": null,
      "outputs": [
        {
          "output_type": "stream",
          "name": "stdout",
          "text": [
            "[1] 0.97175\n"
          ]
        }
      ]
    },
    {
      "cell_type": "code",
      "source": [
        "# Confusion Matrix"
      ],
      "metadata": {
        "id": "UsFOij2RM6h2"
      },
      "execution_count": null,
      "outputs": []
    },
    {
      "cell_type": "code",
      "source": [
        "cft <- table(pred_test, test$Attrition_Flag)\n",
        "cft"
      ],
      "metadata": {
        "id": "VChPMsmnM6mm",
        "colab": {
          "base_uri": "https://localhost:8080/",
          "height": 90
        },
        "outputId": "b1c5e77d-bbad-4692-a350-6ad4bb0a44f3"
      },
      "execution_count": null,
      "outputs": [
        {
          "output_type": "display_data",
          "data": {
            "text/plain": [
              "         \n",
              "pred_test    0    1\n",
              "        0 1490   30\n",
              "        1   20  230"
            ]
          },
          "metadata": {}
        }
      ]
    },
    {
      "cell_type": "code",
      "source": [
        "(tp <- cft[2, 2])\n",
        "(tn <- cft[1, 1])\n",
        "(fp <- cft[2, 1])\n",
        "(fn <- cft[1, 2])"
      ],
      "metadata": {
        "id": "IHQl_mWQM6pC",
        "colab": {
          "base_uri": "https://localhost:8080/",
          "height": 87
        },
        "outputId": "04961e56-d8ed-4014-b72c-b7e10f8845e9"
      },
      "execution_count": null,
      "outputs": [
        {
          "output_type": "display_data",
          "data": {
            "text/plain": [
              "[1] 230"
            ],
            "text/latex": "230",
            "text/markdown": "230",
            "text/html": [
              "230"
            ]
          },
          "metadata": {}
        },
        {
          "output_type": "display_data",
          "data": {
            "text/plain": [
              "[1] 1490"
            ],
            "text/latex": "1490",
            "text/markdown": "1490",
            "text/html": [
              "1490"
            ]
          },
          "metadata": {}
        },
        {
          "output_type": "display_data",
          "data": {
            "text/plain": [
              "[1] 20"
            ],
            "text/latex": "20",
            "text/markdown": "20",
            "text/html": [
              "20"
            ]
          },
          "metadata": {}
        },
        {
          "output_type": "display_data",
          "data": {
            "text/plain": [
              "[1] 30"
            ],
            "text/latex": "30",
            "text/markdown": "30",
            "text/html": [
              "30"
            ]
          },
          "metadata": {}
        }
      ]
    },
    {
      "cell_type": "code",
      "source": [
        "print(accuracy <- (tp + tn)/(tp + tn + fp + fn))\n",
        "print(sensitivity <- tp/(tp + fn)) # = recall\n",
        "print(specificity <- tn/(tn + fp))"
      ],
      "metadata": {
        "id": "axt8y782M6ri",
        "colab": {
          "base_uri": "https://localhost:8080/"
        },
        "outputId": "68004768-d7f1-4387-da65-401fa9347f91"
      },
      "execution_count": null,
      "outputs": [
        {
          "output_type": "stream",
          "name": "stdout",
          "text": [
            "[1] 0.9717514\n",
            "[1] 0.8846154\n",
            "[1] 0.986755\n"
          ]
        }
      ]
    },
    {
      "cell_type": "code",
      "source": [
        "print(Precision <- tp/(tp + fp))"
      ],
      "metadata": {
        "id": "u0I4fVm5M6tx",
        "colab": {
          "base_uri": "https://localhost:8080/"
        },
        "outputId": "0188ba19-ed9e-4cb8-dc76-043b88a6b143"
      },
      "execution_count": null,
      "outputs": [
        {
          "output_type": "stream",
          "name": "stdout",
          "text": [
            "[1] 0.92\n"
          ]
        }
      ]
    },
    {
      "cell_type": "code",
      "source": [
        ""
      ],
      "metadata": {
        "id": "Dv9auaGKYPuM"
      },
      "execution_count": null,
      "outputs": []
    },
    {
      "cell_type": "code",
      "metadata": {
        "id": "7QXWVCi6TvN6"
      },
      "source": [
        ""
      ],
      "execution_count": null,
      "outputs": []
    }
  ]
}