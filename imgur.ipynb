{
 "cells": [
  {
   "cell_type": "markdown",
   "metadata": {},
   "source": [
    "# 取得Pin Code"
   ]
  },
  {
   "cell_type": "code",
   "execution_count": 4,
   "metadata": {},
   "outputs": [],
   "source": [
    "from imgurpython import ImgurClient\n",
    "\n",
    "#不要用我的PIN CODEㄛ\n",
    "client_id = '12de0779eedaea6'\n",
    "client_secret = 'f213c4917bba2d20392294cd6a4d199e7fbce143'\n",
    "\n",
    "client = ImgurClient(client_id, client_secret)\n",
    "\n",
    "authorization_url = client.get_auth_url('pin')"
   ]
  },
  {
   "cell_type": "code",
   "execution_count": 5,
   "metadata": {
    "scrolled": true
   },
   "outputs": [
    {
     "data": {
      "text/plain": [
       "'https://api.imgur.com/oauth2/authorize?client_id=12de0779eedaea6&response_type=pin'"
      ]
     },
     "execution_count": 5,
     "metadata": {},
     "output_type": "execute_result"
    }
   ],
   "source": [
    "authorization_url"
   ]
  },
  {
   "cell_type": "markdown",
   "metadata": {},
   "source": [
    "# 利用Pin Code取得Access Token、Refresh Token"
   ]
  },
  {
   "cell_type": "code",
   "execution_count": 36,
   "metadata": {},
   "outputs": [
    {
     "name": "stdout",
     "output_type": "stream",
     "text": [
      "Go to the following URL: https://api.imgur.com/oauth2/authorize?client_id=12de0779eedaea6&response_type=pin\n",
      "Enter pin code: 0d63219709\n",
      "Authentication successful! Here are the details:\n",
      "   Access token:  a17e7c524faf28bed8bf71c120c24c67ebb23b27\n",
      "   Refresh token: 8cbef9e35618a14e3315b640ea70f6f44ddb7d73\n"
     ]
    }
   ],
   "source": [
    "from imgurpython import ImgurClient\n",
    "from helpers import get_input, get_config\n",
    "\n",
    "def authenticate():\n",
    "\t# Get client ID and secret from auth.ini\n",
    "\tconfig = get_config()\n",
    "\tconfig.read('auth.ini')\n",
    "\tclient_id = config.get('credentials', 'client_id')\n",
    "\tclient_secret = config.get('credentials', 'client_secret')\n",
    "\n",
    "\tclient = ImgurClient(client_id, client_secret)\n",
    "\n",
    "\t# Authorization flow, pin example (see docs for other auth types)\n",
    "\tauthorization_url = client.get_auth_url('pin')\n",
    "\n",
    "\tprint(\"Go to the following URL: {0}\".format(authorization_url))\n",
    "\n",
    "\t# Read in the pin, handle Python 2 or 3 here.\n",
    "\tpin = get_input(\"Enter pin code: \")\n",
    "\n",
    "\t# ... redirect user to `authorization_url`, obtain pin (or code or token) ...\n",
    "\tcredentials = client.authorize(pin, 'pin')\n",
    "\tclient.set_user_auth(credentials['access_token'], credentials['refresh_token'])\n",
    "\n",
    "\tprint(\"Authentication successful! Here are the details:\")\n",
    "\tprint(\"   Access token:  {0}\".format(credentials['access_token']))\n",
    "\tprint(\"   Refresh token: {0}\".format(credentials['refresh_token']))\n",
    "\n",
    "\treturn client\n",
    "\n",
    "# If you want to run this as a standalone script, so be it!\n",
    "if __name__ == \"__main__\":\n",
    "\tauthenticate()"
   ]
  },
  {
   "cell_type": "markdown",
   "metadata": {},
   "source": [
    "# 上傳並回傳圖片網址"
   ]
  },
  {
   "cell_type": "code",
   "execution_count": 1,
   "metadata": {},
   "outputs": [],
   "source": [
    "def upload_photo(image_url):\n",
    "    client_id = '12de0779eedaea6'\n",
    "    client_secret = 'f213c4917bba2d20392294cd6a4d199e7fbce143'\n",
    "    access_token = '05703a40fd1354bbc7df86c07df1898fa0e70254'\n",
    "    refresh_token = 'a027d9b479c202aa95c4056cca9fa46c1d90d16e'\n",
    "    client = ImgurClient(client_id, client_secret, access_token, refresh_token)\n",
    "    album = None # You can also enter an album ID here\n",
    "    config = {\n",
    "  'album': album,\n",
    " }\n",
    "\n",
    "    print(\"Uploading image... \")\n",
    "    image = client.upload_from_url(image_url, config=config, anon=False)\n",
    "    print(\"Done\")    \n",
    "    return image['link']"
   ]
  },
  {
   "cell_type": "code",
   "execution_count": 2,
   "metadata": {
    "scrolled": true
   },
   "outputs": [
    {
     "name": "stdout",
     "output_type": "stream",
     "text": [
      "Uploading image... \n",
      "Done\n"
     ]
    },
    {
     "data": {
      "text/plain": [
       "'https://i.imgur.com/HsomMT0.jpg'"
      ]
     },
     "execution_count": 2,
     "metadata": {},
     "output_type": "execute_result"
    }
   ],
   "source": [
    "upload_photo('http://5b0988e595225.cdn.sohucs.com/images/20181214/bde5af08843e4a15ba2eef0e5fcf1c96.jpeg')"
   ]
  }
 ],
 "metadata": {
  "kernelspec": {
   "display_name": "Python 3",
   "language": "python",
   "name": "python3"
  },
  "language_info": {
   "codemirror_mode": {
    "name": "ipython",
    "version": 3
   },
   "file_extension": ".py",
   "mimetype": "text/x-python",
   "name": "python",
   "nbconvert_exporter": "python",
   "pygments_lexer": "ipython3",
   "version": "3.6.8"
  }
 },
 "nbformat": 4,
 "nbformat_minor": 2
}
