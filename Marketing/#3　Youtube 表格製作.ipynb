{
 "cells": [
  {
   "cell_type": "code",
   "execution_count": 1,
   "metadata": {},
   "outputs": [],
   "source": [
    "from selenium import webdriver\n",
    "from pyquery import PyQuery as pq\n",
    "driver = webdriver.Chrome('chromedriver.exe')\n",
    "driver.get('https://www.youtube.com/results?search_query=tech+review')\n",
    "html = driver.find_element_by_css_selector(\"*\").get_attribute(\"outerHTML\")\n",
    "doc = pq(html)"
   ]
  },
  {
   "cell_type": "code",
   "execution_count": 2,
   "metadata": {},
   "outputs": [],
   "source": [
    "href = driver.find_elements_by_css_selector(\"#text > a\")"
   ]
  },
  {
   "cell_type": "code",
   "execution_count": 3,
   "metadata": {},
   "outputs": [
    {
     "data": {
      "text/plain": [
       "[<selenium.webdriver.remote.webelement.WebElement (session=\"3c1b6f98fb99e305e165ed63a7127720\", element=\"fcd65263-ec52-4b8e-a162-c65271a791c0\")>,\n",
       " <selenium.webdriver.remote.webelement.WebElement (session=\"3c1b6f98fb99e305e165ed63a7127720\", element=\"758a14b6-6129-4186-88c3-4d8684201127\")>,\n",
       " <selenium.webdriver.remote.webelement.WebElement (session=\"3c1b6f98fb99e305e165ed63a7127720\", element=\"62cac69d-2328-43d7-885d-ca546795cba2\")>,\n",
       " <selenium.webdriver.remote.webelement.WebElement (session=\"3c1b6f98fb99e305e165ed63a7127720\", element=\"73252ed4-eef9-41a0-8593-3047d1662ab0\")>,\n",
       " <selenium.webdriver.remote.webelement.WebElement (session=\"3c1b6f98fb99e305e165ed63a7127720\", element=\"01f6ec7a-5adb-4bc1-86b0-cf1ad826ae34\")>,\n",
       " <selenium.webdriver.remote.webelement.WebElement (session=\"3c1b6f98fb99e305e165ed63a7127720\", element=\"307d5b18-e684-434b-acd8-9c685ea81ccb\")>,\n",
       " <selenium.webdriver.remote.webelement.WebElement (session=\"3c1b6f98fb99e305e165ed63a7127720\", element=\"1e93eae7-2aa5-45c2-8ba9-c96e85d50c71\")>,\n",
       " <selenium.webdriver.remote.webelement.WebElement (session=\"3c1b6f98fb99e305e165ed63a7127720\", element=\"179f2f4a-fcd0-4109-b8c9-c0789ef8c503\")>,\n",
       " <selenium.webdriver.remote.webelement.WebElement (session=\"3c1b6f98fb99e305e165ed63a7127720\", element=\"b1eb7231-6e1a-46ff-ac3c-b3ca18a16dc8\")>,\n",
       " <selenium.webdriver.remote.webelement.WebElement (session=\"3c1b6f98fb99e305e165ed63a7127720\", element=\"27b4ec5a-9a71-4f9f-8ce0-6c6ceeea92a5\")>,\n",
       " <selenium.webdriver.remote.webelement.WebElement (session=\"3c1b6f98fb99e305e165ed63a7127720\", element=\"67d9bbef-7321-4c37-be80-e649f260a90c\")>,\n",
       " <selenium.webdriver.remote.webelement.WebElement (session=\"3c1b6f98fb99e305e165ed63a7127720\", element=\"4982775d-c049-4267-a3a1-528d3d231963\")>,\n",
       " <selenium.webdriver.remote.webelement.WebElement (session=\"3c1b6f98fb99e305e165ed63a7127720\", element=\"43414c26-5d81-4729-897b-82a58c31dfac\")>,\n",
       " <selenium.webdriver.remote.webelement.WebElement (session=\"3c1b6f98fb99e305e165ed63a7127720\", element=\"6f656c76-0d36-4e12-9e22-c74e1f11c8f4\")>]"
      ]
     },
     "execution_count": 3,
     "metadata": {},
     "output_type": "execute_result"
    }
   ],
   "source": [
    "href"
   ]
  },
  {
   "cell_type": "code",
   "execution_count": 4,
   "metadata": {},
   "outputs": [
    {
     "name": "stdout",
     "output_type": "stream",
     "text": [
      "Marques Brownlee\n",
      "\n",
      "Marques Brownlee\n",
      "\n",
      "Unbox Therapy\n",
      "\n",
      "MeatCanyon\n",
      "\n",
      "Unbox Therapy\n",
      "\n",
      "Digital Trends\n",
      "\n",
      "MotoManTV\n",
      "\n"
     ]
    }
   ],
   "source": [
    "for i in href:\n",
    "    print(i.text)"
   ]
  },
  {
   "cell_type": "markdown",
   "metadata": {},
   "source": [
    "### 剔除重複Link"
   ]
  },
  {
   "cell_type": "code",
   "execution_count": 5,
   "metadata": {
    "collapsed": true
   },
   "outputs": [
    {
     "name": "stdout",
     "output_type": "stream",
     "text": [
      "Marques Brownlee : https://www.youtube.com/user/marquesbrownlee\n",
      "Unbox Therapy : https://www.youtube.com/user/unboxtherapy\n",
      "MeatCanyon : https://www.youtube.com/channel/UC91V6D3nkhP89wUb9f_h17g\n",
      "Digital Trends : https://www.youtube.com/user/DigitalTrends\n",
      "MotoManTV : https://www.youtube.com/user/MotoManTV\n",
      "['https://www.youtube.com/user/marquesbrownlee', 'https://www.youtube.com/user/unboxtherapy', 'https://www.youtube.com/channel/UC91V6D3nkhP89wUb9f_h17g', 'https://www.youtube.com/user/DigitalTrends', 'https://www.youtube.com/user/MotoManTV']\n"
     ]
    }
   ],
   "source": [
    "name = []\n",
    "C = []\n",
    "for j in href:\n",
    "    if j.text not in name and j.text != '':\n",
    "        name.append(j.text)\n",
    "        print(j.text,':',j.get_attribute(\"href\"))\n",
    "        C.append(j.get_attribute(\"href\"))\n",
    "print(C)"
   ]
  },
  {
   "cell_type": "markdown",
   "metadata": {},
   "source": [
    "### 爬至少100個Link"
   ]
  },
  {
   "cell_type": "code",
   "execution_count": 6,
   "metadata": {},
   "outputs": [
    {
     "name": "stdout",
     "output_type": "stream",
     "text": [
      "MIT Technology Review : https://www.youtube.com/user/TechnologyReview\n",
      "carwow : https://www.youtube.com/channel/UCUhFaUpnq31m6TNX2VKVSVA\n",
      "Joma Tech : https://www.youtube.com/channel/UCV0qA-eDDICsRR9rPcnG7tw\n",
      "Tech Tak : https://www.youtube.com/channel/UC_o9J_Ru7Ag4F-29C20x7ew\n",
      "The Tech Chap : https://www.youtube.com/channel/UCzlXf-yUIaOpOjEjPrOO9TA\n",
      "Updato : https://www.youtube.com/user/sxvtech\n",
      "MobileTechReview : https://www.youtube.com/user/MobileTechReview\n",
      "Linus Tech Tips : https://www.youtube.com/user/LinusTechTips\n",
      "ReviewTechUSA : https://www.youtube.com/user/ReviewTechUSA\n",
      "The Hybrid Shooter : https://www.youtube.com/channel/UC-0cdtgZF01T3N8drruyikg\n",
      "Think Media : https://www.youtube.com/user/THiNKmediaTV\n",
      "CNET : https://www.youtube.com/user/CNETTV\n",
      "Pack Hacker Quick Hits : https://www.youtube.com/channel/UCa9O7ulUbt4axNo6h1c-JTQ\n",
      "Autosport : https://www.youtube.com/user/AUTOSPORTdotcom\n",
      "CaseyNeistat : https://www.youtube.com/user/caseyneistat\n",
      "Matthew Moniz : https://www.youtube.com/channel/UCVlMUh4WsDQvOxCJJXmWwdw\n",
      "Frankie Tech : https://www.youtube.com/user/franciscoherrera84\n",
      "Teaching Tech : https://www.youtube.com/channel/UCbgBDBrwsikmtoLqtpc59Bw\n"
     ]
    }
   ],
   "source": [
    "import time\n",
    "\n",
    "while True :\n",
    "    try :\n",
    "        if len(name) < 10 :\n",
    "\n",
    "            js=\"var action=document.documentElement.scrollTop=10000000\"\n",
    "            driver.execute_script(js)\n",
    "            time.sleep(2)\n",
    "            href = driver.find_elements_by_css_selector(\"#text > a\")\n",
    "            for j in href:\n",
    "                if j.text not in name and j.text != '':\n",
    "                    name.append(j.text)\n",
    "                    print(j.text,':',j.get_attribute(\"href\"))\n",
    "                    C.append(j.get_attribute(\"href\"))\n",
    "        else:\n",
    "            break\n",
    "            \n",
    "    except EOFError:\n",
    "        break"
   ]
  },
  {
   "cell_type": "code",
   "execution_count": 8,
   "metadata": {},
   "outputs": [
    {
     "data": {
      "text/plain": [
       "23"
      ]
     },
     "execution_count": 8,
     "metadata": {},
     "output_type": "execute_result"
    }
   ],
   "source": [
    "len(name)"
   ]
  },
  {
   "cell_type": "markdown",
   "metadata": {},
   "source": [
    "#### ※ 嘗試：將Youtuber整理成表格，並加上：\n",
    "* 訂閱數\n",
    "* 觀看次數分析及趨勢\n",
    "* 地區等資訊"
   ]
  },
  {
   "cell_type": "code",
   "execution_count": 9,
   "metadata": {},
   "outputs": [
    {
     "name": "stdout",
     "output_type": "stream",
     "text": [
      "23\n"
     ]
    }
   ],
   "source": [
    "print(len(C))"
   ]
  },
  {
   "cell_type": "code",
   "execution_count": 10,
   "metadata": {},
   "outputs": [
    {
     "data": {
      "text/plain": [
       "['https://www.youtube.com/user/marquesbrownlee',\n",
       " 'https://www.youtube.com/user/unboxtherapy',\n",
       " 'https://www.youtube.com/channel/UC91V6D3nkhP89wUb9f_h17g',\n",
       " 'https://www.youtube.com/user/DigitalTrends',\n",
       " 'https://www.youtube.com/user/MotoManTV',\n",
       " 'https://www.youtube.com/user/TechnologyReview',\n",
       " 'https://www.youtube.com/channel/UCUhFaUpnq31m6TNX2VKVSVA',\n",
       " 'https://www.youtube.com/channel/UCV0qA-eDDICsRR9rPcnG7tw',\n",
       " 'https://www.youtube.com/channel/UC_o9J_Ru7Ag4F-29C20x7ew',\n",
       " 'https://www.youtube.com/channel/UCzlXf-yUIaOpOjEjPrOO9TA',\n",
       " 'https://www.youtube.com/user/sxvtech',\n",
       " 'https://www.youtube.com/user/MobileTechReview',\n",
       " 'https://www.youtube.com/user/LinusTechTips',\n",
       " 'https://www.youtube.com/user/ReviewTechUSA',\n",
       " 'https://www.youtube.com/channel/UC-0cdtgZF01T3N8drruyikg',\n",
       " 'https://www.youtube.com/user/THiNKmediaTV',\n",
       " 'https://www.youtube.com/user/CNETTV',\n",
       " 'https://www.youtube.com/channel/UCa9O7ulUbt4axNo6h1c-JTQ',\n",
       " 'https://www.youtube.com/user/AUTOSPORTdotcom',\n",
       " 'https://www.youtube.com/user/caseyneistat',\n",
       " 'https://www.youtube.com/channel/UCVlMUh4WsDQvOxCJJXmWwdw',\n",
       " 'https://www.youtube.com/user/franciscoherrera84',\n",
       " 'https://www.youtube.com/channel/UCbgBDBrwsikmtoLqtpc59Bw']"
      ]
     },
     "execution_count": 10,
     "metadata": {},
     "output_type": "execute_result"
    }
   ],
   "source": [
    "C"
   ]
  },
  {
   "cell_type": "code",
   "execution_count": 11,
   "metadata": {},
   "outputs": [
    {
     "data": {
      "text/plain": [
       "'https://www.youtube.com/user/marquesbrownlee'"
      ]
     },
     "execution_count": 11,
     "metadata": {},
     "output_type": "execute_result"
    }
   ],
   "source": [
    "str(C[0])"
   ]
  },
  {
   "cell_type": "code",
   "execution_count": 20,
   "metadata": {},
   "outputs": [
    {
     "name": "stdout",
     "output_type": "stream",
     "text": [
      "1060萬 位訂閱者\n",
      "1630萬 位訂閱者\n"
     ]
    }
   ],
   "source": [
    "import requests\n",
    "\n",
    "dataDict = {}\n",
    "dataDict[\"subscribers\"] = []\n",
    "\n",
    "for eachHref in C[:2]:\n",
    "    driver.get('{}'.format(str(eachHref)))\n",
    "    html = driver.find_element_by_css_selector(\"*\").get_attribute(\"outerHTML\")\n",
    "    doc = pq(html)\n",
    "    channel_name = driver.find_elements_by_css_selector(\"#subscriber-count\")\n",
    "    \n",
    "    for i in channel_name:\n",
    "        J = i.text\n",
    "        print(J)"
   ]
  },
  {
   "cell_type": "code",
   "execution_count": 21,
   "metadata": {},
   "outputs": [
    {
     "data": {
      "text/plain": [
       "'1630萬 位訂閱者'"
      ]
     },
     "execution_count": 21,
     "metadata": {},
     "output_type": "execute_result"
    }
   ],
   "source": [
    "J"
   ]
  },
  {
   "cell_type": "code",
   "execution_count": 16,
   "metadata": {},
   "outputs": [],
   "source": [
    "import pandas as pd"
   ]
  },
  {
   "cell_type": "code",
   "execution_count": 19,
   "metadata": {},
   "outputs": [],
   "source": [
    "df = pd.DataFrame(dataDict)"
   ]
  },
  {
   "cell_type": "code",
   "execution_count": 20,
   "metadata": {},
   "outputs": [
    {
     "data": {
      "text/html": [
       "<div>\n",
       "<style scoped>\n",
       "    .dataframe tbody tr th:only-of-type {\n",
       "        vertical-align: middle;\n",
       "    }\n",
       "\n",
       "    .dataframe tbody tr th {\n",
       "        vertical-align: top;\n",
       "    }\n",
       "\n",
       "    .dataframe thead th {\n",
       "        text-align: right;\n",
       "    }\n",
       "</style>\n",
       "<table border=\"1\" class=\"dataframe\">\n",
       "  <thead>\n",
       "    <tr style=\"text-align: right;\">\n",
       "      <th></th>\n",
       "      <th>title</th>\n",
       "      <th>price</th>\n",
       "      <th>stars</th>\n",
       "    </tr>\n",
       "  </thead>\n",
       "  <tbody>\n",
       "    <tr>\n",
       "      <td>0</td>\n",
       "      <td>c</td>\n",
       "      <td>1</td>\n",
       "      <td>2</td>\n",
       "    </tr>\n",
       "    <tr>\n",
       "      <td>1</td>\n",
       "      <td>d</td>\n",
       "      <td>2</td>\n",
       "      <td>3</td>\n",
       "    </tr>\n",
       "    <tr>\n",
       "      <td>2</td>\n",
       "      <td>e</td>\n",
       "      <td>3</td>\n",
       "      <td>4</td>\n",
       "    </tr>\n",
       "  </tbody>\n",
       "</table>\n",
       "</div>"
      ],
      "text/plain": [
       "  title  price  stars\n",
       "0     c      1      2\n",
       "1     d      2      3\n",
       "2     e      3      4"
      ]
     },
     "execution_count": 20,
     "metadata": {},
     "output_type": "execute_result"
    }
   ],
   "source": [
    "df"
   ]
  },
  {
   "cell_type": "code",
   "execution_count": null,
   "metadata": {},
   "outputs": [],
   "source": []
  },
  {
   "cell_type": "code",
   "execution_count": null,
   "metadata": {},
   "outputs": [],
   "source": []
  }
 ],
 "metadata": {
  "kernelspec": {
   "display_name": "Python 3",
   "language": "python",
   "name": "python3"
  },
  "language_info": {
   "codemirror_mode": {
    "name": "ipython",
    "version": 3
   },
   "file_extension": ".py",
   "mimetype": "text/x-python",
   "name": "python",
   "nbconvert_exporter": "python",
   "pygments_lexer": "ipython3",
   "version": "3.6.8"
  }
 },
 "nbformat": 4,
 "nbformat_minor": 2
}
