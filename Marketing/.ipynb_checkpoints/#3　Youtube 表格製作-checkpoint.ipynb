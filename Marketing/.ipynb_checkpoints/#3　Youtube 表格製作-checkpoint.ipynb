{
 "cells": [
  {
   "cell_type": "code",
   "execution_count": 1,
   "metadata": {},
   "outputs": [],
   "source": [
    "from selenium import webdriver\n",
    "from pyquery import PyQuery as pq\n",
    "driver = webdriver.Chrome('chromedriver.exe')\n",
    "driver.get('https://www.youtube.com/results?search_query=tech+review')\n",
    "html = driver.find_element_by_css_selector(\"*\").get_attribute(\"outerHTML\")\n",
    "doc = pq(html)"
   ]
  },
  {
   "cell_type": "code",
   "execution_count": 2,
   "metadata": {},
   "outputs": [],
   "source": [
    "info=doc('.yt-simple-endpoint.style-scope.yt-formatted-string')"
   ]
  },
  {
   "cell_type": "code",
   "execution_count": 3,
   "metadata": {},
   "outputs": [
    {
     "data": {
      "text/plain": [
       "[<a.yt-simple-endpoint.style-scope.yt-formatted-string>, <a.yt-simple-endpoint.style-scope.yt-formatted-string>, <a.yt-simple-endpoint.style-scope.yt-formatted-string>, <a.yt-simple-endpoint.style-scope.yt-formatted-string>, <a.yt-simple-endpoint.style-scope.yt-formatted-string>, <a.yt-simple-endpoint.style-scope.yt-formatted-string>, <a.yt-simple-endpoint.style-scope.yt-formatted-string>, <a.yt-simple-endpoint.style-scope.yt-formatted-string>, <a.yt-simple-endpoint.style-scope.yt-formatted-string>, <a.yt-simple-endpoint.style-scope.yt-formatted-string>, <a.yt-simple-endpoint.style-scope.yt-formatted-string>, <a.yt-simple-endpoint.style-scope.yt-formatted-string>, <a.yt-simple-endpoint.style-scope.yt-formatted-string>, <a.yt-simple-endpoint.style-scope.yt-formatted-string>]"
      ]
     },
     "execution_count": 3,
     "metadata": {},
     "output_type": "execute_result"
    }
   ],
   "source": [
    "info"
   ]
  },
  {
   "cell_type": "code",
   "execution_count": 2,
   "metadata": {},
   "outputs": [],
   "source": [
    "href = driver.find_elements_by_css_selector(\"#text > a\")"
   ]
  },
  {
   "cell_type": "code",
   "execution_count": 3,
   "metadata": {
    "collapsed": true
   },
   "outputs": [
    {
     "data": {
      "text/plain": [
       "[<selenium.webdriver.remote.webelement.WebElement (session=\"e6fbfa25851f0405ed1ad710ba041fb3\", element=\"9a20ba9a-76dd-447d-bf62-ce72ac9417aa\")>,\n",
       " <selenium.webdriver.remote.webelement.WebElement (session=\"e6fbfa25851f0405ed1ad710ba041fb3\", element=\"5d9a2f3e-491b-4639-8d54-2def53b41ee3\")>,\n",
       " <selenium.webdriver.remote.webelement.WebElement (session=\"e6fbfa25851f0405ed1ad710ba041fb3\", element=\"060bfc5f-950f-4799-abb7-e914a83ac14a\")>,\n",
       " <selenium.webdriver.remote.webelement.WebElement (session=\"e6fbfa25851f0405ed1ad710ba041fb3\", element=\"de0e940d-5665-4cff-b3b2-3145d17e0159\")>,\n",
       " <selenium.webdriver.remote.webelement.WebElement (session=\"e6fbfa25851f0405ed1ad710ba041fb3\", element=\"45ffa1c6-4cd4-46f2-a764-85044d7133b7\")>,\n",
       " <selenium.webdriver.remote.webelement.WebElement (session=\"e6fbfa25851f0405ed1ad710ba041fb3\", element=\"40f54987-6bd0-45d1-ae65-74db9f3cf25b\")>,\n",
       " <selenium.webdriver.remote.webelement.WebElement (session=\"e6fbfa25851f0405ed1ad710ba041fb3\", element=\"38e457ad-5d8f-48b1-9c23-0017628cf546\")>,\n",
       " <selenium.webdriver.remote.webelement.WebElement (session=\"e6fbfa25851f0405ed1ad710ba041fb3\", element=\"c1f16ac0-471d-4179-b283-72392ff7a454\")>,\n",
       " <selenium.webdriver.remote.webelement.WebElement (session=\"e6fbfa25851f0405ed1ad710ba041fb3\", element=\"365e1a9d-3eef-4f3f-95e2-9157ed6a0bf5\")>,\n",
       " <selenium.webdriver.remote.webelement.WebElement (session=\"e6fbfa25851f0405ed1ad710ba041fb3\", element=\"58d429b6-e5e3-4e4b-b3c1-5c74660c3740\")>,\n",
       " <selenium.webdriver.remote.webelement.WebElement (session=\"e6fbfa25851f0405ed1ad710ba041fb3\", element=\"e6a7e0b9-12e8-44f7-87d2-958bca323298\")>,\n",
       " <selenium.webdriver.remote.webelement.WebElement (session=\"e6fbfa25851f0405ed1ad710ba041fb3\", element=\"c2525926-5673-4f1a-b39e-9d5943b77fb0\")>,\n",
       " <selenium.webdriver.remote.webelement.WebElement (session=\"e6fbfa25851f0405ed1ad710ba041fb3\", element=\"a20049cb-7ef4-4394-937d-07b2637ba42f\")>,\n",
       " <selenium.webdriver.remote.webelement.WebElement (session=\"e6fbfa25851f0405ed1ad710ba041fb3\", element=\"a1990f9c-2dbb-4cef-a41a-ca5548323cfd\")>,\n",
       " <selenium.webdriver.remote.webelement.WebElement (session=\"e6fbfa25851f0405ed1ad710ba041fb3\", element=\"c47830a4-2d2f-4ea5-b69d-c3e9772c3ffb\")>,\n",
       " <selenium.webdriver.remote.webelement.WebElement (session=\"e6fbfa25851f0405ed1ad710ba041fb3\", element=\"56751598-3e77-40d4-9035-a3722f476749\")>,\n",
       " <selenium.webdriver.remote.webelement.WebElement (session=\"e6fbfa25851f0405ed1ad710ba041fb3\", element=\"453989a4-43d1-4312-9a4d-9d8cf9f1e2f4\")>,\n",
       " <selenium.webdriver.remote.webelement.WebElement (session=\"e6fbfa25851f0405ed1ad710ba041fb3\", element=\"53ece3a8-38ff-4365-a17a-7bbae56f96af\")>,\n",
       " <selenium.webdriver.remote.webelement.WebElement (session=\"e6fbfa25851f0405ed1ad710ba041fb3\", element=\"777e5aea-908f-4a1e-afea-fbf6fc6d2ed7\")>,\n",
       " <selenium.webdriver.remote.webelement.WebElement (session=\"e6fbfa25851f0405ed1ad710ba041fb3\", element=\"f1880cbd-b0e8-47cf-9654-9979702c8e65\")>,\n",
       " <selenium.webdriver.remote.webelement.WebElement (session=\"e6fbfa25851f0405ed1ad710ba041fb3\", element=\"9d0f4f25-11be-445c-99c7-34b0e83f0b61\")>,\n",
       " <selenium.webdriver.remote.webelement.WebElement (session=\"e6fbfa25851f0405ed1ad710ba041fb3\", element=\"498a9125-89ec-4219-8d76-00fbd4054dee\")>,\n",
       " <selenium.webdriver.remote.webelement.WebElement (session=\"e6fbfa25851f0405ed1ad710ba041fb3\", element=\"3321d317-eb49-4935-b7d5-1ed84fc5d6c8\")>,\n",
       " <selenium.webdriver.remote.webelement.WebElement (session=\"e6fbfa25851f0405ed1ad710ba041fb3\", element=\"742c6d02-9ed1-4add-86d2-16bc263df8be\")>,\n",
       " <selenium.webdriver.remote.webelement.WebElement (session=\"e6fbfa25851f0405ed1ad710ba041fb3\", element=\"3c2d6d00-e352-41df-bad4-ff515a8b834f\")>,\n",
       " <selenium.webdriver.remote.webelement.WebElement (session=\"e6fbfa25851f0405ed1ad710ba041fb3\", element=\"f425a1ea-7322-4d16-9aca-cc3ac1167d6c\")>,\n",
       " <selenium.webdriver.remote.webelement.WebElement (session=\"e6fbfa25851f0405ed1ad710ba041fb3\", element=\"8fb1d174-fbeb-415f-875d-9cf3325b1083\")>,\n",
       " <selenium.webdriver.remote.webelement.WebElement (session=\"e6fbfa25851f0405ed1ad710ba041fb3\", element=\"ef572e88-5182-4149-bcc7-051ed5f67c99\")>,\n",
       " <selenium.webdriver.remote.webelement.WebElement (session=\"e6fbfa25851f0405ed1ad710ba041fb3\", element=\"c7065242-d093-4528-a57b-704f8e267c92\")>,\n",
       " <selenium.webdriver.remote.webelement.WebElement (session=\"e6fbfa25851f0405ed1ad710ba041fb3\", element=\"225782d1-c60f-4e66-bf78-aa48ed5c0537\")>,\n",
       " <selenium.webdriver.remote.webelement.WebElement (session=\"e6fbfa25851f0405ed1ad710ba041fb3\", element=\"8e0eb789-ecb5-4b6f-963c-f474ed47f356\")>,\n",
       " <selenium.webdriver.remote.webelement.WebElement (session=\"e6fbfa25851f0405ed1ad710ba041fb3\", element=\"5d9b27e9-d6bd-47f6-a9ba-ff8ef290fd43\")>,\n",
       " <selenium.webdriver.remote.webelement.WebElement (session=\"e6fbfa25851f0405ed1ad710ba041fb3\", element=\"a742efed-c2e9-4c25-8bf3-5c0de0127904\")>,\n",
       " <selenium.webdriver.remote.webelement.WebElement (session=\"e6fbfa25851f0405ed1ad710ba041fb3\", element=\"d411521b-8748-4e6c-99b8-2f07f5c37821\")>,\n",
       " <selenium.webdriver.remote.webelement.WebElement (session=\"e6fbfa25851f0405ed1ad710ba041fb3\", element=\"f31af1d4-27b9-4551-abd9-56772f7b9485\")>,\n",
       " <selenium.webdriver.remote.webelement.WebElement (session=\"e6fbfa25851f0405ed1ad710ba041fb3\", element=\"0ce2e021-1717-4c29-8f3b-354472316034\")>,\n",
       " <selenium.webdriver.remote.webelement.WebElement (session=\"e6fbfa25851f0405ed1ad710ba041fb3\", element=\"150028af-2677-464e-8d98-d01db4aa7ec2\")>,\n",
       " <selenium.webdriver.remote.webelement.WebElement (session=\"e6fbfa25851f0405ed1ad710ba041fb3\", element=\"36df4569-5ecb-488b-bf0e-bf643252995d\")>]"
      ]
     },
     "execution_count": 3,
     "metadata": {},
     "output_type": "execute_result"
    }
   ],
   "source": [
    "href"
   ]
  },
  {
   "cell_type": "code",
   "execution_count": 4,
   "metadata": {
    "collapsed": true
   },
   "outputs": [
    {
     "name": "stdout",
     "output_type": "stream",
     "text": [
      "Marques Brownlee\n",
      "\n",
      "Marques Brownlee\n",
      "\n",
      "Unbox Therapy\n",
      "\n",
      "MeatCanyon\n",
      "\n",
      "TechMe0ut\n",
      "\n",
      "Unbox Therapy\n",
      "\n",
      "Tech Tak\n",
      "\n",
      "MotoManTV\n",
      "\n",
      "Digital Trends\n",
      "\n",
      "MotoManTV\n",
      "\n",
      "MotoManTV\n",
      "\n",
      "MotoManTV\n",
      "\n",
      "MIT Technology Review\n",
      "\n",
      "MotoManTV\n",
      "\n",
      "MotoManTV\n",
      "\n",
      "Joma Tech\n",
      "\n",
      "Gordon Laing\n",
      "\n",
      "carwow\n",
      "\n",
      "MotorPress.ca\n",
      "\n"
     ]
    }
   ],
   "source": [
    "for i in href:\n",
    "    print(i.text)"
   ]
  },
  {
   "cell_type": "markdown",
   "metadata": {},
   "source": [
    "### 剔除重複Link"
   ]
  },
  {
   "cell_type": "code",
   "execution_count": 6,
   "metadata": {},
   "outputs": [
    {
     "name": "stdout",
     "output_type": "stream",
     "text": [
      "Marques Brownlee : https://www.youtube.com/user/marquesbrownlee\n",
      "Unbox Therapy : https://www.youtube.com/user/unboxtherapy\n",
      "MeatCanyon : https://www.youtube.com/channel/UC91V6D3nkhP89wUb9f_h17g\n",
      "TechMe0ut : https://www.youtube.com/user/TechMe0ut\n",
      "Tech Tak : https://www.youtube.com/channel/UC_o9J_Ru7Ag4F-29C20x7ew\n",
      "MotoManTV : https://www.youtube.com/user/MotoManTV\n",
      "Digital Trends : https://www.youtube.com/user/DigitalTrends\n",
      "MIT Technology Review : https://www.youtube.com/user/TechnologyReview\n",
      "Joma Tech : https://www.youtube.com/channel/UCV0qA-eDDICsRR9rPcnG7tw\n",
      "Gordon Laing : https://www.youtube.com/user/cameralabs\n",
      "carwow : https://www.youtube.com/channel/UCUhFaUpnq31m6TNX2VKVSVA\n",
      "MotorPress.ca : https://www.youtube.com/user/AutoMotoCanada\n"
     ]
    }
   ],
   "source": [
    "name = []\n",
    "for j in href:\n",
    "    if j.text not in name and j.text != '':\n",
    "        name.append(j.text)\n",
    "        print(j.text,':',j.get_attribute(\"href\"))"
   ]
  },
  {
   "cell_type": "markdown",
   "metadata": {},
   "source": [
    "### 爬至少100個Link"
   ]
  },
  {
   "cell_type": "code",
   "execution_count": 12,
   "metadata": {},
   "outputs": [
    {
     "name": "stdout",
     "output_type": "stream",
     "text": [
      "Updato : https://www.youtube.com/user/sxvtech\n",
      "David Zhang : https://www.youtube.com/channel/UC1ELUfyiYnQQhtPWBS9Dmbg\n",
      "The Tech Chap : https://www.youtube.com/channel/UCzlXf-yUIaOpOjEjPrOO9TA\n",
      "NowThis Future : https://www.youtube.com/channel/UCFH5dQAkGIqzcFYmM4tNtXw\n",
      "CaseyNeistat : https://www.youtube.com/user/caseyneistat\n",
      "Pack Hacker : https://www.youtube.com/channel/UC_rI3y1DzDULTr-UIvshiwg\n",
      "Bose : https://www.youtube.com/user/Bose\n",
      "Linus Tech Tips : https://www.youtube.com/user/LinusTechTips\n",
      "MobileTechReview : https://www.youtube.com/user/MobileTechReview\n",
      "TechSmartt : https://www.youtube.com/user/TechSmartt\n",
      "Think Media : https://www.youtube.com/user/THiNKmediaTV\n",
      "Digital Foundry : https://www.youtube.com/user/DigitalFoundry\n",
      "CNET : https://www.youtube.com/user/CNETTV\n",
      "Recharge : https://www.youtube.com/channel/UCiWe-JhZJL3cGpFsZNyU7uA\n",
      "CarAdvice.com : https://www.youtube.com/user/CarAdvice\n",
      "Noel Miller : https://www.youtube.com/channel/UCuTQDPUE12sy7g1xf1LAdTA\n",
      "9to5Mac : https://www.youtube.com/channel/UChjRM_qQAaOAiLNbOGbYcRA\n",
      "Autosport : https://www.youtube.com/user/AUTOSPORTdotcom\n",
      "Gogi Tech : https://www.youtube.com/user/gogirana\n",
      "Safiya Nygaard : https://www.youtube.com/channel/UCbAwSkqJ1W_Eg7wr3cp5BUA\n",
      "Marc Priestley : https://www.youtube.com/user/F1Elvis\n",
      "AF Tech Review : https://www.youtube.com/channel/UCWyWlHA70hQQt6MWnzz3cqQ\n",
      "Drunk Tech Review : https://www.youtube.com/user/DrunkTechReviewTV\n",
      "TEAM NOC : https://www.youtube.com/channel/UCFRIAxGTWQ4mllzdkdomAkQ\n",
      "All That Official : https://www.youtube.com/channel/UC6UzskfVDPkJ5aSe755ZGgQ\n",
      "Matthew Moniz : https://www.youtube.com/channel/UCVlMUh4WsDQvOxCJJXmWwdw\n",
      "AutoNation : https://www.youtube.com/user/autonation\n",
      "TAMIL TECH - தமிழ் டெக் : https://www.youtube.com/channel/UC20sXo8ReewkzNKBFgzVCPA\n",
      "Tech Spurt : https://www.youtube.com/channel/UCVLN0tY51ewH44wUtx3YZTA\n",
      "Thunderbirds Are Go : https://www.youtube.com/channel/UCtbLAxtXlWrvx1UrHF3i7PQ\n",
      "Trakin Tech : https://www.youtube.com/user/trakinvideos\n",
      "Tech Deals : https://www.youtube.com/channel/UCCss3QxegBkF8BAetIo0qXA\n",
      "Redline Reviews : https://www.youtube.com/user/2theRedlineLLC\n",
      "NotebookcheckReviews : https://www.youtube.com/user/NotebookcheckReviews\n",
      "Car Confections : https://www.youtube.com/user/CarConfections\n",
      "Boardshop : https://www.youtube.com/user/BoardshopUK\n",
      "MotionBoardshop : https://www.youtube.com/user/MotionBoardshop\n",
      "National Club Golfer : https://www.youtube.com/user/NationalClubGolfer\n",
      "Zay Rashod Reactions : https://www.youtube.com/channel/UCTAu6vhBVzNR2f9SgmWzKuQ\n",
      "SnowboardProCamp : https://www.youtube.com/user/SnowboardProCamp\n",
      "Guru Mann Fitness : https://www.youtube.com/channel/UCGMOauU8dOd4mv2bT3Tx57w\n",
      "Ben Wayne : https://www.youtube.com/channel/UCudA1yWdmwZR2RfJltQIarw\n",
      "RewindMike : https://www.youtube.com/channel/UCzC-UyeYwc9ogs0xnN0DOtQ\n",
      "AIR BEAR : https://www.youtube.com/user/BiggerBulletGaming\n",
      "QuickyBaby : https://www.youtube.com/user/QuickyBabyTV\n",
      "TFLnow : https://www.youtube.com/user/TFL4K\n",
      "InternetMikey : https://www.youtube.com/user/BoremontTx\n",
      "Business Insider : https://www.youtube.com/user/businessinsider\n",
      "Georges CamerasTV : https://www.youtube.com/channel/UCcoClloSqmaSKWn5E-VxU-w\n",
      "Caleb Wojcik : https://www.youtube.com/user/calebwojcikfilms\n",
      "TechteamGB : https://www.youtube.com/user/TechteamGB\n",
      "Bar's Leaks : https://www.youtube.com/channel/UCMfWTp-KhrocxoCUfgdlvlQ\n",
      "Christian Henson Music : https://www.youtube.com/channel/UCXCXxhRVYvBOX45_gxr0iHA\n",
      "Tech Satire : https://www.youtube.com/channel/UCON_gtDQSNnWS1gwBcqgRKg\n",
      "The Dallas Morning News : https://www.youtube.com/user/tdmnvid\n",
      "Sulit Tech Reviews : https://www.youtube.com/channel/UCa8g_5cRhATCMNMI7xlLJzQ\n",
      "Shawna Jahniaa Reacts : https://www.youtube.com/channel/UCqFsCy4Y4PSKWvWvwtUKMlQ\n",
      "GottaBeMobile : https://www.youtube.com/user/gottabemobile\n",
      "The Hybrid Shooter : https://www.youtube.com/channel/UC-0cdtgZF01T3N8drruyikg\n",
      "What Car? : https://www.youtube.com/user/whatcar\n",
      "TheStraightPipes : https://www.youtube.com/user/TheStraightPipes\n",
      "BadSeed Tech : https://www.youtube.com/channel/UCOFH59uoSs8SUF0L_p3W0sg\n",
      "Tech Singh : https://www.youtube.com/user/newprasan\n",
      "Optimum Tech : https://www.youtube.com/channel/UCRYOj4DmyxhBVrdvbsUwmAA\n",
      "EFTMOnline : https://www.youtube.com/user/EFTMOnline\n",
      "Jean-Denis Haas : https://www.youtube.com/user/nplus1\n",
      "Taimoor Salahuddin aka Mooroo : https://www.youtube.com/user/mooroosicity\n",
      "InspiredbyTee : https://www.youtube.com/channel/UCLgm05NpUOxunnGYva26RsQ\n",
      "Auto Tech Review : https://www.youtube.com/channel/UCJ4y7i0cK-KRymmIAe1yT2A\n",
      "The New York Times : https://www.youtube.com/user/TheNewYorkTimes\n",
      "thisisb-rob : https://www.youtube.com/channel/UCBLfr5u-asgKEALIXPbJiSw\n",
      "Lawrence Systems / PC Pickup : https://www.youtube.com/user/TheTecknowledge\n",
      "Brownie Townie : https://www.youtube.com/channel/UCiBK5CavDP2tzVNVM9W8ttA\n",
      "Podcastage : https://www.youtube.com/channel/UCvOU-zTlankT-JjN3ZzvuKA\n",
      "Brian Makse : https://www.youtube.com/user/brianmakse\n",
      "The Verge : https://www.youtube.com/user/TheVerge\n",
      "GadgetsToUse : https://www.youtube.com/user/technixmedia\n",
      "Frediculous : https://www.youtube.com/channel/UCkainCcQa4uVS6R3QCBd9rg\n",
      "AMD : https://www.youtube.com/user/amd\n",
      "Autogefühl : https://www.youtube.com/user/autogefuehl\n",
      "Prasadtechintelugu : https://www.youtube.com/channel/UCb-xXZ7ltTvrh9C6DgB9H-Q\n",
      "stolentoilet : https://www.youtube.com/user/stolentoilet\n",
      "Snowboarder Magazine : https://www.youtube.com/user/TWsnowFILMS\n",
      "Engadget : https://www.youtube.com/user/engadget\n",
      "PRN_TestDrive : https://www.youtube.com/user/perpetualradio\n",
      "Cheryl Cooke OPI NZ : https://www.youtube.com/channel/UCCm0B1lPrfVoH2gmddfaAlg\n",
      "PB Digital Media : https://www.youtube.com/channel/UChSv9VnsvjscAqo1AhE-PdA\n",
      "AuthenTech - Ben Schmanke : https://www.youtube.com/user/bschmanke\n",
      "Travis MCP : https://www.youtube.com/user/travyvideo\n",
      "CharliMarieTV : https://www.youtube.com/user/charlimarieTV\n",
      "Dunna Did It : https://www.youtube.com/user/dunnaj\n"
     ]
    }
   ],
   "source": [
    "import time\n",
    "\n",
    "while True :\n",
    "    try :\n",
    "        if len(name) < 100 :\n",
    "\n",
    "            js=\"var action=document.documentElement.scrollTop=10000000\"\n",
    "            driver.execute_script(js)\n",
    "            time.sleep(2)\n",
    "            href = driver.find_elements_by_css_selector(\"#text > a\")\n",
    "            for j in href:\n",
    "                if j.text not in name and j.text != '':\n",
    "                    name.append(j.text)\n",
    "                    print(j.text,':',j.get_attribute(\"href\"))\n",
    "                    \n",
    "        else:\n",
    "            break\n",
    "            \n",
    "    except EOFError:\n",
    "        break"
   ]
  },
  {
   "cell_type": "code",
   "execution_count": 13,
   "metadata": {},
   "outputs": [
    {
     "data": {
      "text/plain": [
       "103"
      ]
     },
     "execution_count": 13,
     "metadata": {},
     "output_type": "execute_result"
    }
   ],
   "source": [
    "len(name)"
   ]
  },
  {
   "cell_type": "markdown",
   "metadata": {},
   "source": [
    "#### ※ 之後可以嘗試：將Youtuber整理成表格，並加上訂閱數、觀看次數分析及趨勢、地區等資訊，即可進一步篩出優質Youtuber"
   ]
  },
  {
   "cell_type": "code",
   "execution_count": null,
   "metadata": {},
   "outputs": [],
   "source": []
  }
 ],
 "metadata": {
  "kernelspec": {
   "display_name": "Python 3",
   "language": "python",
   "name": "python3"
  },
  "language_info": {
   "codemirror_mode": {
    "name": "ipython",
    "version": 3
   },
   "file_extension": ".py",
   "mimetype": "text/x-python",
   "name": "python",
   "nbconvert_exporter": "python",
   "pygments_lexer": "ipython3",
   "version": "3.6.8"
  }
 },
 "nbformat": 4,
 "nbformat_minor": 2
}
