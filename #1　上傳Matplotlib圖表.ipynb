{
 "cells": [
  {
   "cell_type": "markdown",
   "metadata": {},
   "source": [
    "# 利用Matplotlib畫圖"
   ]
  },
  {
   "cell_type": "code",
   "execution_count": 43,
   "metadata": {},
   "outputs": [],
   "source": [
    "import matplotlib.pyplot as plt\n",
    "import numpy as np"
   ]
  },
  {
   "cell_type": "code",
   "execution_count": 44,
   "metadata": {},
   "outputs": [],
   "source": [
    "x = np.arange(0,180)\n",
    "y = np.sin(x * np.pi / 180.0)"
   ]
  },
  {
   "cell_type": "code",
   "execution_count": 45,
   "metadata": {},
   "outputs": [
    {
     "data": {
      "image/png": "[encoded data removed]",
      "text/plain": [
       "<Figure size 432x288 with 1 Axes>"
      ]
     },
     "metadata": {
      "needs_background": "light"
     },
     "output_type": "display_data"
    }
   ],
   "source": [
    "plt.plot(x,y)\n",
    "\n",
    "    # 設定圖的範圍, 不設的話，系統會自行決定\n",
    "    \n",
    "plt.xlim(-30,390)\n",
    "plt.ylim(-1.5,1.5)\n",
    "\n",
    "    # 照需要寫入x 軸和y軸的 label 以及title\n",
    "\n",
    "plt.xlabel(\"x-axis\")\n",
    "plt.ylabel(\"y-axis\")\n",
    "plt.title(\"The Title\")\n",
    "\n",
    "\n",
    "    # 在這個指令之前，都還在做畫圖的動作\n",
    "    # 這個指令算是 \"秀圖\"\n",
    "\n",
    "#plt.show()\n",
    "plt.savefig(\"filename.png\",dpi=300,format=\"png\")"
   ]
  },
  {
   "cell_type": "markdown",
   "metadata": {},
   "source": [
    "# 方法一：知道圖片網址時可使用"
   ]
  },
  {
   "cell_type": "code",
   "execution_count": 46,
   "metadata": {},
   "outputs": [],
   "source": [
    "from imgurpython import ImgurClient"
   ]
  },
  {
   "cell_type": "code",
   "execution_count": 47,
   "metadata": {},
   "outputs": [],
   "source": [
    "def upload_photo(image_url):\n",
    "    client_id = '12de0779eedaea6'\n",
    "    client_secret = 'f213c4917bba2d20392294cd6a4d199e7fbce143'\n",
    "    access_token = '05703a40fd1354bbc7df86c07df1898fa0e70254'\n",
    "    refresh_token = 'a027d9b479c202aa95c4056cca9fa46c1d90d16e'\n",
    "    client = ImgurClient(client_id, client_secret, access_token, refresh_token)\n",
    "    album = None # You can also enter an album ID here\n",
    "    config = {\n",
    "  'album': album,\n",
    " }\n",
    "\n",
    "    print(\"Uploading image... \")\n",
    "    image = client.upload_from_url(image_url, config=config, anon=False)\n",
    "    print(\"Done\")    \n",
    "    return image['link']"
   ]
  },
  {
   "cell_type": "markdown",
   "metadata": {},
   "source": [
    "# 方法二：使用電腦內的路徑位置"
   ]
  },
  {
   "cell_type": "code",
   "execution_count": 48,
   "metadata": {},
   "outputs": [],
   "source": [
    "import os"
   ]
  },
  {
   "cell_type": "code",
   "execution_count": 49,
   "metadata": {},
   "outputs": [
    {
     "name": "stdout",
     "output_type": "stream",
     "text": [
      "C:\\Users\\user\\Desktop\\2020\\Pandas\\filename.png\n"
     ]
    }
   ],
   "source": [
    "tech_path = os.path.abspath(\"filename.png\")\n",
    "print(tech_path)"
   ]
  },
  {
   "cell_type": "code",
   "execution_count": 58,
   "metadata": {},
   "outputs": [],
   "source": [
    "import pyimgur"
   ]
  },
  {
   "cell_type": "code",
   "execution_count": 61,
   "metadata": {
    "scrolled": false
   },
   "outputs": [],
   "source": [
    "imgurID = '12de0779eedaea6'\n",
    "imageLocation = tech_path\n",
    "imageTitle = '技術'\n",
    "uploadedImage = pyimgur.Imgur(imgurID).upload_image(imageLocation, title=imageTitle) "
   ]
  },
  {
   "cell_type": "code",
   "execution_count": 63,
   "metadata": {},
   "outputs": [
    {
     "data": {
      "text/plain": [
       "'https://i.imgur.com/8VOiTDT.png'"
      ]
     },
     "execution_count": 63,
     "metadata": {},
     "output_type": "execute_result"
    }
   ],
   "source": [
    "uploadedImage.link"
   ]
  }
 ],
 "metadata": {
  "kernelspec": {
   "display_name": "Python 3",
   "language": "python",
   "name": "python3"
  },
  "language_info": {
   "codemirror_mode": {
    "name": "ipython",
    "version": 3
   },
   "file_extension": ".py",
   "mimetype": "text/x-python",
   "name": "python",
   "nbconvert_exporter": "python",
   "pygments_lexer": "ipython3",
   "version": "3.6.8"
  }
 },
 "nbformat": 4,
 "nbformat_minor": 2
}
